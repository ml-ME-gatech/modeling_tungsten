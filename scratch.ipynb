{
 "cells": [
  {
   "cell_type": "markdown",
   "id": "04868332",
   "metadata": {},
   "source": [
    "$$\n",
    "\\begin{bmatrix}\n",
    "a_1 \\\\ \n",
    "B_1 \\\\ \n",
    "n\n",
    "\\end{bmatrix} = \\mathbf{C}_{\\tilde{k}} \\begin{bmatrix} 1 \\\\ ln{\\tilde{k}} \\end{bmatrix}\n",
    "\\qquad \n",
    "\\begin{bmatrix}\n",
    "a_2 \\\\ \n",
    "B_2 \\\\ \n",
    "\\end{bmatrix} = \\mathbf{C}_{\\tilde{t}} \\begin{bmatrix} 1 \\\\ ln{\\tilde{t}} \\end{bmatrix} \\qquad \n",
    "\\mathbf{C}_{\\tilde{k}} \\in \\mathbb{R}^{3 \\times 2},\\mathbf{C}_{\\tilde{t}} \\in \\mathbb{R}^{2 \\times 2}\n",
    "$$\n",
    "\n",
    "$$\n",
    "\\Theta = \\begin{bmatrix}\n",
    "\\mathbf{C}_{\\tilde{k}} & \\mathbf{0} \\\\ \n",
    "\\mathbf{0} & \\mathbf{C}_{\\tilde{t}} \n",
    "\\end{bmatrix} \n",
    "\\begin{bmatrix} \n",
    "\\mathbf{1}  &  \\ln{\\mathbf{\\tilde{k}}}  \\\\ \n",
    "\\mathbf{1} & \\ln{\\mathbf{\\tilde{t}}}\n",
    "\\end{bmatrix}^T \n",
    "$$"
   ]
  },
  {
   "cell_type": "markdown",
   "id": "36a062ad",
   "metadata": {},
   "source": []
  },
  {
   "cell_type": "code",
   "execution_count": null,
   "id": "3cd7dd30",
   "metadata": {},
   "outputs": [],
   "source": [
    "$$\n"
   ]
  },
  {
   "cell_type": "markdown",
   "id": "519086eb",
   "metadata": {},
   "source": [
    "$$\n",
    "Pr(\\theta \\in C_{\\alpha}| \\mathcal{D}) = \\int_{C_{\\alpha}}p(\\theta | \\mathcal{D}) d\\theta\n",
    "$$"
   ]
  }
 ],
 "metadata": {
  "language_info": {
   "name": "python"
  }
 },
 "nbformat": 4,
 "nbformat_minor": 5
}
