{
 "cells": [
  {
   "cell_type": "code",
   "execution_count": 11,
   "metadata": {},
   "outputs": [],
   "source": [
    "import numpy as np\n",
    "from matplotlib import pyplot as plt\n",
    "import pandas as pd\n",
    "from matplotlib import rc\n",
    "from matplotlib.ticker import AutoMinorLocator\n",
    "\n",
    "rc('font',**{'family':'serif','serif':['Times New Roman'],'weight': 'bold'})\n",
    "plt.rcParams[\"font.weight\"] = \"bold\"\n",
    "plt.rcParams[\"axes.labelweight\"] = \"bold\"\n",
    "rc('text', usetex=True)\n",
    "plt.rcParams['text.latex.preamble'] = \"\".join([r\"\\usepackage{newtxtext,newtxmath}\",r\"\\boldmath\"])\n",
    "\n",
    "def default_axis(figsize = (6,4.5), \n",
    "               xlabel: str = None,\n",
    "               ylabel: str = None,\n",
    "               labelsize: int = 10,\n",
    "               fontsize: int = 11,\n",
    "               ax: plt.Axes = None,\n",
    "               n_minor_ticks: int = 5):\n",
    "\n",
    "    if ax is None:\n",
    "        fig, ax = plt.subplots(figsize=figsize)\n",
    "    else:\n",
    "        fig = None\n",
    "    \n",
    "    ax.set_xlabel(xlabel,fontsize = 10)\n",
    "    ax.set_ylabel(ylabel,fontsize  = fontsize)\n",
    "    ax.tick_params('both',labelsize = labelsize,direction = 'in',which = 'both')\n",
    "\n",
    "    ax.xaxis.set_minor_locator(AutoMinorLocator(n_minor_ticks))\n",
    "    ax.yaxis.set_minor_locator(AutoMinorLocator(n_minor_ticks))\n",
    "    \n",
    "    return fig,ax"
   ]
  },
  {
   "cell_type": "markdown",
   "metadata": {},
   "source": [
    "### Application Description\n",
    "\n",
    "We want to estimate the reduction in material Vickers hardness due to _recrystilization_, a type of solid material phase change, for a tungsten alloy (K doped 3% Rhenium W alloy). The kinetics of recrystilization are a function of both time and temperature. Unfortunately, the only high quality recrystillizatoin experimental data that covers a broad swathe of temperatures is for pure W [1]. We believe after an initial assessment of the data that:\n",
    "\n",
    "1. The ultimate reduction in the hardness (fully recrystallized material) is independant of the recrystillization temperature.\n",
    "2. The reduction is relatively constant across material pre-processing\n",
    "\n",
    "The later assumption is mostly for convinience, made so we can create a single point estimate (and confidence interval) for the reduction in the material Vickers hardness to be used in design applications. \n",
    "\n",
    "### Goals\n",
    "1. Statistically demonstrate the above two hypothesis. \n",
    "2. Demonstrate this recrystillization reduction is a good approximation for the specific alloy of interest.\n",
    "\n",
    "And conclude that this estimated reduction in material hardness may be used as a baseline estimate across tungsten alloy and recrystillization temperatures.\n",
    "\n",
    "[1] Alfonso, L., Thermal Stability of Warm Rolled Tungsten (2015), Ph.D. Thesis "
   ]
  },
  {
   "cell_type": "markdown",
   "metadata": {},
   "source": [
    "### Initial Visualization\n",
    "\n",
    "The below plot shows hardness as a function of time at a few specific temperatures ($1150,1250 \\ ^\\circ C$). The hardness begins at the initial material species value, $HV_0$, and asymptotes to a final value, $HV_x$, once the material is fully recrystallized. The reduction in hardness is the fractional decrease from $HV_0$ to $HV_x$."
   ]
  },
  {
   "cell_type": "code",
   "execution_count": 12,
   "metadata": {},
   "outputs": [
    {
     "data": {
      "image/png": "[encoded data removed]",
      "text/plain": [
       "<Figure size 400x250 with 1 Axes>"
      ]
     },
     "metadata": {},
     "output_type": "display_data"
    }
   ],
   "source": [
    "from matplotlib import rc\n",
    "from matplotlib.ticker import AutoMinorLocator\n",
    "import pandas as pd\n",
    "\n",
    "rc('font',**{'family':'serif','serif':['Times New Roman'],'weight': 'bold'})\n",
    "plt.rcParams[\"font.weight\"] = \"bold\"\n",
    "plt.rcParams[\"axes.labelweight\"] = \"bold\"\n",
    "rc('text', usetex=True)\n",
    "plt.rcParams['text.latex.preamble'] = \"\".join([r\"\\usepackage{newtxtext,newtxmath}\",r\"\\boldmath\"])\n",
    "\n",
    "def default_axis(figsize = (6,4.5), \n",
    "               xlabel: str = None,\n",
    "               ylabel: str = None,\n",
    "               labelsize: int = 10,\n",
    "               fontsize: int = 11,\n",
    "               ax: plt.Axes = None,\n",
    "               n_minor_ticks: int = 5):\n",
    "\n",
    "    if ax is None:\n",
    "        fig, ax = plt.subplots(figsize=figsize)\n",
    "    else:\n",
    "        fig = None\n",
    "    \n",
    "    ax.set_xlabel(xlabel,fontsize = 10)\n",
    "    ax.set_ylabel(ylabel,fontsize  = fontsize)\n",
    "    ax.tick_params('both',labelsize = labelsize,direction = 'in',which = 'both')\n",
    "\n",
    "    ax.xaxis.set_minor_locator(AutoMinorLocator(n_minor_ticks))\n",
    "    ax.yaxis.set_minor_locator(AutoMinorLocator(n_minor_ticks))\n",
    "    \n",
    "    return fig,ax\n",
    "\n",
    "fig,ax = default_axis(figsize = (4,2.5),\n",
    "                    xlabel = r'$t$ [h]',\n",
    "                    ylabel = r'$HV$')\n",
    "for temp,color in zip([1150,1250],[0.1,0.2]):\n",
    "    df = pd.read_csv('rf_data/alfonso_data/highly_rolled_hardness_data.csv',index_col = 0)\n",
    "    df = df.loc[df['temperature'] == temp]\n",
    "\n",
    "\n",
    "    ax.errorbar(df['time'],df['HV'].to_numpy(),yerr = df['std'],fmt = 'none',ecolor = 'k',capsize = 2)\n",
    "    ax.scatter(df['time'],df['HV'],facecolor  = plt.get_cmap('Dark2')(color),edgecolor = 'k',\n",
    "            lw = 1.0,s = 40,marker = 'h',zorder = 1000)\n",
    "\n",
    "fig.tight_layout(pad = 0.1)\n",
    "fig.savefig('images/rolled_data_example_hardness_1150C_1250C.svg')"
   ]
  },
  {
   "cell_type": "markdown",
   "metadata": {},
   "source": [
    "### Extract Hardness Values\n",
    "\n",
    "We define the material as _recrystallized_ when the hardness reache is less than $\\beta$ % greater than it's minimum value, and from this first point in time onward, every recorded value is considered a recrystallized hardness ($HV_x$). \n",
    "\n",
    "We define the _initial_ material hardness ($HV_0$) as the first value in the time series. \n",
    "\n",
    "The reported data are means over a moderate number of samples ($20$). We assume that all observations are normal random variables from two populations, the initial $HV_{0}$ population and the recrystillized $HV_{x,i}$. \n",
    "\n",
    "By defintion, we have one observation mean for the $HV_{0}$ and an estimate of it's variance $S^2_{0}$ at each temperature. We have multiple observation means for the recystallized data, with an estimate of each samples variance $S^2_{x,i}$ for each. \n",
    "\n",
    "We estimate the mean of the recrystallized data as the mean of the recrystallized observations, which are normal. We estimate the total variance using a pooled estimator. Assume we have $m$ recrystallized observations with _equal samples_ in each group, and count from $i = 1...m$ \n",
    "\n",
    "$\n",
    "S_p^2 = \\frac{1}{m} \\sum_{i = 1}^m  S^2_i + \\frac{1}{m-1} \\sum_{i = 1}^m  (\\bar{x}_i - \\bar{\\bar{x}})^2  \\\\ \n",
    " \\bar{x}_i : \\text{sample mean} \\qquad S^2_i: \\text{sample variance}\n",
    "$\n",
    "\n",
    "i.e. the pooled estimator is the mean of the variances plus the variance of the means.We assume that $\\frac{(N- m) S_p^2}{\\sigma_p^2} \\sim \\chi^2_{N - m}$ approximately, where $N = \\sum_{i = 1}^m n_i$ and $n_i$ is the number of samples in each mean."
   ]
  },
  {
   "cell_type": "code",
   "execution_count": 13,
   "metadata": {},
   "outputs": [],
   "source": [
    "import warnings\n",
    "\n",
    "def extract_hardness_data(data: pd.DataFrame,\n",
    "                          thresh: float = 0.025):\n",
    "\n",
    "    # Extract the data for the initial and recrystallized states\n",
    "    # for each temperature\n",
    "    temps = data['temperature'].unique()\n",
    "    rx_data = []\n",
    "    init_data = []\n",
    "    for t in temps:\n",
    "        df = data.loc[data['temperature'] == t]\n",
    "        with warnings.catch_warnings(action = 'ignore'):\n",
    "            df.sort_values('time',inplace = True)  \n",
    "        \n",
    "        scaled = (df['HV'].to_numpy() - df['HV'].min())/df['HV'].min()\n",
    "        index = scaled < thresh\n",
    "        i = 0\n",
    "        while i < index.shape[0] and not index[i]:  \n",
    "            i += 1\n",
    "        \n",
    "        i -=1\n",
    "        \n",
    "        rx_df = df.iloc[i:]\n",
    "        rx_mean = rx_df['HV'].mean()\n",
    "        rx_av = np.mean(rx_df['std']**2)\n",
    "        rx_va = 1/(rx_df.shape[0] - 1)*np.sum((rx_df['HV'].to_numpy() - rx_mean)**2)\n",
    "\n",
    "        rx_data.append([[rx_mean,(rx_av + rx_va)**0.5,rx_df.shape[0]]])\n",
    "        init_data.append(df.iloc[0][['HV','std']].to_numpy()[np.newaxis,:])\n",
    "\n",
    "    init_df = pd.DataFrame(np.concatenate(init_data,axis = 0),index = temps,columns = ['HV','std'])\n",
    "    rx_df = pd.DataFrame(np.concatenate(rx_data),index = temps,columns = ['HV','std','num_samples'])\n",
    "    return init_df,rx_df \n"
   ]
  },
  {
   "cell_type": "markdown",
   "metadata": {},
   "source": [
    "### Estimate Reduction in Hardness Value\n",
    "\n",
    "=====================================\n",
    "TO-DO: DOF for S_p^2\n",
    "=====================================\n",
    "\n",
    "We are specifically interested in estimating the _reduction in hardness value_, $HV_\\Delta$ defined by:\n",
    "\n",
    "$\n",
    "HV_\\Delta = \\frac{HV_0 - HV_x}{HV_0} =  1 - R_{x0}\n",
    "$\n",
    "\n",
    "The preceeding analysis implies that $HV_0 \\sim \\mathcal{N}(\\mu_0,\\sigma_0)$ and $HV_x \\sim \\mathcal{N}(\\mu_x,\\sigma_x)$. Assuming independance of the two RV's, $R_{x0}$ is the ratio of $HV_x$ to $HV_0$ and the distribution of $R_{x0}$ is a ratio distribution of the two normal variables. This variable has an exact, analytical closed form pdf, however none of the moments are finite and we don't have the actual mean and variances of the hardnesses, only estimates, so it would be difficult to derive the distribution based on the sample statistics. Its straightforward to just sample the distributions of $HV_0$ and $HV_x$ and estimate $\\mu_{\\Delta}$ and confidence intervals on $HV_{\\Delta}$ empircally. Student's theorem provides:\n",
    "\n",
    "$\n",
    "\\frac{HX_x - \\mu_{x}}{\\sqrt{S^2_p/n}} \\sim t_{n - 1} \\\\ \n",
    "\\frac{HX_0 - \\mu_{0}}{\\sqrt{S^2_0/m}} \\sim t_{m - 1} \n",
    "$\n",
    "\n",
    "Using this information we can sample these distributions and construct a sample distribution of $H_{\\Delta}$. Viewing the histogram of the samples below shows that the distribution is slightly asymmetric, and indeed the computed skeneww values confirm this. It does seem however, that a normal approximation to this distribution is adequate."
   ]
  },
  {
   "cell_type": "code",
   "execution_count": 14,
   "metadata": {},
   "outputs": [
    {
     "name": "stderr",
     "output_type": "stream",
     "text": [
      "c:\\Users\\mlanahan3\\Anaconda3\\envs\\py312\\Lib\\site-packages\\tqdm\\auto.py:21: TqdmWarning: IProgress not found. Please update jupyter and ipywidgets. See https://ipywidgets.readthedocs.io/en/stable/user_install.html\n",
      "  from .autonotebook import tqdm as notebook_tqdm\n",
      "sample: 100%|██████████| 105000/105000 [00:27<00:00, 3858.95it/s, 7 steps of size 6.79e-01. acc. prob=0.88]\n"
     ]
    },
    {
     "name": "stdout",
     "output_type": "stream",
     "text": [
      "skewness: [ 0.0034 -0.0022 -0.0153 -0.0039 -0.0164 -0.0084]\n"
     ]
    },
    {
     "data": {
      "image/png": "[encoded data removed]",
      "text/plain": [
       "<Figure size 300x250 with 1 Axes>"
      ]
     },
     "metadata": {},
     "output_type": "display_data"
    }
   ],
   "source": [
    "import numpyro \n",
    "from jax import random\n",
    "from jax import numpy as jnp    \n",
    "from functools import cached_property\n",
    "from numpyro.diagnostics import hpdi\n",
    "\n",
    "rng_key = random.PRNGKey(0)\n",
    "rng_key, rng_key_ = random.split(rng_key)\n",
    "\n",
    "def get_ratio_samples(init_sample_mean: jnp.ndarray,\n",
    "                      init_sample_std: jnp.ndarray,\n",
    "                      init_n: jnp.ndarray,\n",
    "                      rx_sample_mean: jnp.ndarray,\n",
    "                      rx_sample_std: jnp.ndarray,\n",
    "                      rx_n: jnp.ndarray):\n",
    "    \n",
    "    numpyro.sample('t_init',numpyro.distributions.StudentT(loc = init_sample_mean,\n",
    "                                                                    scale = init_sample_std,\n",
    "                                                                    df = init_n -1))\n",
    "    numpyro.sample('t_rx',numpyro.distributions.StudentT(loc = rx_sample_mean,\n",
    "                                                                scale = rx_sample_std,\n",
    "                                                                df = rx_n ))\n",
    "\n",
    "class InferenceSummary:\n",
    "\n",
    "    def __init__(self,mcmc: numpyro.infer.MCMC):\n",
    "    \n",
    "        self.mcmc = mcmc\n",
    "\n",
    "    @cached_property\n",
    "    def samples(self):\n",
    "        return self.mcmc.get_samples()\n",
    "    \n",
    "    @cached_property\n",
    "    def hardness(self):\n",
    "        return  1. - self.samples['t_rx']/self.samples['t_init']\n",
    "\n",
    "    def print_summary(self):\n",
    "        self.mcmc.print_summary()\n",
    "    \n",
    "    @cached_property\n",
    "    def mean_hardness(self):\n",
    "        return jnp.mean(self.hardness,axis = 0)\n",
    "    \n",
    "    @cached_property\n",
    "    def std_hardness(self):\n",
    "        return jnp.std(self.hardness,axis = 0,ddof = 1)\n",
    "    \n",
    "    def confidence_interval(self,alpha: float = 0.05):\n",
    "        return hpdi(self.hardness, 1.- alpha)\n",
    "\n",
    "def run_inference(init_data: pd.DataFrame,\n",
    "                  rx_data: pd.DataFrame,\n",
    "                  rng_key: jnp.ndarray,\n",
    "                  num_data_samples: int = 20,\n",
    "                  num_samples: int = 3000,\n",
    "                  num_warmup: int = 500,\n",
    "                  num_chains: int = 1):\n",
    "    \n",
    "    \n",
    "    nuts_kernel = numpyro.infer.NUTS(get_ratio_samples)\n",
    "    mcmc = numpyro.infer.MCMC(\n",
    "        nuts_kernel,\n",
    "        num_samples=num_samples,\n",
    "        num_warmup=num_warmup,\n",
    "        num_chains= num_chains,\n",
    "    )\n",
    "\n",
    "    values = (init_data['HV'].to_numpy(),\n",
    "            init_data['std'].to_numpy(),\n",
    "            num_data_samples - 1,\n",
    "            rx_data['HV'].to_numpy(),\n",
    "            rx_data['std'].to_numpy(),\n",
    "            rx_data['num_samples'].to_numpy()*(num_data_samples - 1))    \n",
    "\n",
    "    mcmc.run(rng_key,*(jnp.array(v) for v in values))\n",
    "    return InferenceSummary(mcmc)\n",
    "\n",
    "\n",
    "data = pd.read_csv('rf_data/alfonso_data/highly_rolled_hardness_data.csv',index_col = 0)\n",
    "init_data,rx_data = extract_hardness_data(data,thresh = 0.01)\n",
    "\n",
    "inference = run_inference(init_data,rx_data,rng_key_,num_samples = 100000,num_warmup = 5000,num_chains = 1)\n",
    "\n",
    "fig,ax = default_axis(figsize = (3,2.5),\n",
    "                      xlabel = r'$HV_{\\Delta}$ [\\%]',\n",
    "                     ylabel = r'$p(HV_{\\Delta})$')\n",
    "ax.hist(inference.hardness[:,4]*100,bins = 60,density = True,edgecolor = 'k',\n",
    "        facecolor = plt.get_cmap('Dark2')(0.6),alpha = 0.6,lw = 0.5)\n",
    "fig.tight_layout()\n",
    "\n",
    "\n",
    "skewness = jnp.mean(((inference.hardness - inference.mean_hardness)/inference.std_hardness)**3,axis = 0)\n",
    "print(f'skewness: {round(skewness,4)}')\n"
   ]
  },
  {
   "cell_type": "markdown",
   "metadata": {},
   "source": [
    "### Visualization \n",
    "\n",
    "The below scatter shows computed mean $HV_\\Delta$ at each temperature, with 95% confidence intervals for each data point for W material processed in two different ways. The common mean and 95% confidence intervals are shown as horizontal lines. It appears visually that assuming the reduction in hardness is indepednant of temperature may be a good assumption."
   ]
  },
  {
   "cell_type": "code",
   "execution_count": 15,
   "metadata": {},
   "outputs": [
    {
     "name": "stderr",
     "output_type": "stream",
     "text": [
      "sample: 100%|██████████| 105000/105000 [00:28<00:00, 3717.28it/s, 7 steps of size 6.79e-01. acc. prob=0.88]\n",
      "sample: 100%|██████████| 105000/105000 [00:26<00:00, 3891.03it/s, 7 steps of size 6.15e-01. acc. prob=0.91]\n"
     ]
    },
    {
     "data": {
      "image/png": "[encoded data removed]",
      "text/plain": [
       "<Figure size 400x300 with 1 Axes>"
      ]
     },
     "metadata": {},
     "output_type": "display_data"
    }
   ],
   "source": [
    "\n",
    "fig,ax = default_axis(figsize = (4,3),\n",
    "                    xlabel = r'$T$ [$^\\circ C$]',\n",
    "                    ylabel = r'$HV_\\Delta [\\%]$')\n",
    "\n",
    "files = ['rf_data/alfonso_data/highly_rolled_hardness_data.csv',\n",
    "         'rf_data/alfonso_data/moderate_roll_hardness_data.csv']\n",
    "\n",
    "labels = ['Alfonso et. al. HR',\n",
    "          'Alfonso et. al. MR']\n",
    "\n",
    "sampled_inferences = []\n",
    "i = 0\n",
    "for file,marker,color,label in zip(files,['h','s','o'],[0.1,0.2,0.7],labels):\n",
    "    data = pd.read_csv(file,index_col = 0)\n",
    "    init_data,rx_data = extract_hardness_data(data,thresh = 0.01)\n",
    "    \n",
    "    if i >= 2:\n",
    "        hv_d = (init_data['HV'] - rx_data['HV'])/init_data['HV']\n",
    "\n",
    "\n",
    "        ax.scatter(hv_d.index,hv_d*100,facecolor = plt.get_cmap('Dark2')(color),\n",
    "                edgecolor = 'k',s = 40,marker = marker,lw = 0.75,\n",
    "                label = label,zorder = 2000)\n",
    "    else:\n",
    "        \n",
    "        inference = run_inference(init_data,rx_data,rng_key_,num_samples = 100000,num_warmup = 5000,num_chains = 1)\n",
    "        sampled_inferences.append(inference)\n",
    "        yerr = np.abs(inference.mean_hardness[np.newaxis,:] - inference.confidence_interval(0.05))\n",
    "\n",
    "        common_mean = inference.mean_hardness.mean()\n",
    "        common_ci = hpdi(inference.hardness.flatten(),0.95)\n",
    "\n",
    "        ax.axhline(common_mean*100,color = plt.get_cmap('Dark2')(color),ls = '--',lw = 1.0,\n",
    "                   label = f'Mean' if i == 0 else None)\n",
    "        ax.axhline(common_ci[0]*100,color = plt.get_cmap('Dark2')(color),ls = ':',lw = 0.75)\n",
    "        ax.axhline(common_ci[1]*100,color = plt.get_cmap('Dark2')(color),ls = ':',lw = 0.75)\n",
    "        ax.fill_between(np.linspace(1050,1500),common_ci[0]*100,common_ci[1]*100,\n",
    "                        color = plt.get_cmap('Dark2')(color),alpha = 0.1)\n",
    "        \n",
    "        ax.errorbar(init_data.index,inference.mean_hardness*100,yerr = yerr*100,\n",
    "                    fmt = 'none',ecolor = 'k',capsize = 2,lw = 1.0)\n",
    "        ax.scatter(init_data.index,inference.mean_hardness*100,facecolor = plt.get_cmap('Dark2')(color),\n",
    "                edgecolor = 'k',s = 40,marker = marker,lw = 1.0,\n",
    "                label = label,zorder = 2000)\n",
    "    i+=1\n",
    "\n",
    "\n",
    "ax.legend(fontsize = 9,ncols = 2)\n",
    "ax.set_ylim(8,22)\n",
    "ax.set_xlim(1050,1400)\n",
    "fig.tight_layout(pad = 0.1)\n",
    "fig.savefig('images/hardness_reduction.svg')"
   ]
  },
  {
   "cell_type": "markdown",
   "metadata": {},
   "source": [
    "### Testing Independance of Temperature\n",
    "\n",
    "*NOTE: a similar result could also be obtained via linear regression and applying the nullity of coefficient test.\n",
    "\n",
    "We suppose that: \n",
    "\n",
    "$\n",
    "HV_{\\Delta,ij} = \\theta_i + \\varepsilon_{i} \\\\ \n",
    "i = 1,...,6 \\qquad \\text{counts temperature} \\\\ \n",
    "j = 1,...,m \\qquad \\text{counts number of samples}\n",
    "$\n",
    "\n",
    "And we'd like to test: \n",
    "\n",
    "$\n",
    "\\mathcal{H}_0: \\theta_i = \\bar{\\theta} \\ \\ \\forall i \\qquad \\text{vs.} \\qquad \\mathcal{H}_1: \\exist i \\ \\text{s.t.} \\theta_i \\neq \\ \\bar{\\theta} \n",
    "$\n",
    "\n",
    "This is the null hypothesis under one-way ANOVA, however our approach is complicated by violation of the classical normality assumptions regarding the error term, $\\varepsilon_{i}$. The assumptions of independant errors with $\\mathbb{E}[\\varepsilon_{i}] = 0$, still make sense, however we do not assume they have a common distribution. Under $\\mathcal{H}_0$ we have that \n",
    "\n",
    "$\n",
    "\\theta_i - \\bar{\\theta} = \\varepsilon_i \\sim p_i \\\\ \n",
    "p(\\varepsilon_1,\\varepsilon_2,...,\\varepsilon_6) = \\prod_{i = 1}^6 p_i \\\\ \n",
    "$\n",
    "\n",
    "Where $p_{i}$ is represented through samples. To test $\\mathcal{H}_0$ at level $\\alpha$ we estimate $\\varepsilon_i$ using $\\tilde{\\varepsilon}_i$ using estimates for $\\theta_i$ and $\\bar{\\theta}$ to confirm they each lie within $[p_{i,\\gamma/2},p_{i,1 - \\gamma/2}]$ where $1- \\gamma = (1 - \\alpha)^{1/n} \\implies \\gamma = 1 - (1 - \\alpha)^{1/n}$\n",
    "\n",
    "This test confirms, for both data sets, what we suspected based on the plot in the previous section: the change in hardness is independant of temperature"
   ]
  },
  {
   "cell_type": "code",
   "execution_count": 16,
   "metadata": {},
   "outputs": [
    {
     "name": "stdout",
     "output_type": "stream",
     "text": [
      "Medium Rolled\n",
      "-----------------------------------\n",
      "\n",
      "Difference in Mean | Lower Bound | Upper Bound\n",
      "-0.173 -3.5 3.4000000953674316\n",
      "-0.339 -3.5 3.5\n",
      "-0.359 -3.700000047683716 3.700000047683716\n",
      "-0.068 -2.799999952316284 2.799999952316284\n",
      "0.441 -2.700000047683716 2.700000047683716\n",
      "0.498 -1.8000000715255737 1.7000000476837158\n",
      "\n",
      "-----------------------------------\n",
      "\n",
      "\n",
      "Highly Rolled\n",
      "-----------------------------------\n",
      "\n",
      "Difference in Mean | Lower Bound | Upper Bound\n",
      "-1.402 -3.1000001430511475 3.1000001430511475\n",
      "0.543 -4.0 4.0\n",
      "0.206 -3.1000001430511475 2.9000000953674316\n",
      "0.287 -4.599999904632568 4.300000190734863\n",
      "0.365 -4.300000190734863 4.300000190734863\n",
      "\n",
      "-----------------------------------\n",
      "\n",
      "\n"
     ]
    }
   ],
   "source": [
    "alpha = 0.05\n",
    "\n",
    "\n",
    "inf_names = ['Medium Rolled','Highly Rolled']\n",
    "\n",
    "for inf,name in zip(sampled_inferences,inf_names):\n",
    "    print(name)\n",
    "    print('-----------------------------------\\n')\n",
    "    means = inf.mean_hardness\n",
    "    common_mean = means.mean()\n",
    "    diff = np.array(means -common_mean)\n",
    "\n",
    "    # compute the confidence interval on the difference in means, effectively the quantiles on the error distribution.\n",
    "    gamma = 1 - (1-alpha)**(1/means.shape[0])\n",
    "    ci = inf.confidence_interval(gamma) - means\n",
    "    print('Difference in Mean | Lower Bound | Upper Bound')\n",
    "    for i in range(diff.shape[0]):\n",
    "        print(f'{round(diff[i]*100,3)} {np.round(ci[0,i]*100,1)} {np.round(ci[1,i]*100,1)}')\n",
    "\n",
    "    print('\\n-----------------------------------\\n\\n')\n",
    "\n"
   ]
  },
  {
   "cell_type": "markdown",
   "metadata": {},
   "source": [
    "### Testing Common Mean Between Processed Materials\n",
    "\n",
    "We suppose that: \n",
    "\n",
    "$\n",
    "HV_{\\Delta,ijk} = \\theta_{ik} + \\varepsilon_{ik} \\\\ \n",
    "i = 1,...,6 \\qquad \\text{counts temperature} \\\\ \n",
    "j = 1,...,m \\qquad \\text{counts number of samples} \\\\ \n",
    "k = 1,2 \\qquad \\text{denotes the material processed with method} \\   k\n",
    "$\n",
    "\n",
    "And we'd like to test: \n",
    "\n",
    "$\n",
    "\\mathcal{H}_0: \\theta_{ik} = \\bar{\\theta} \\ \\ \\forall i \\qquad \\text{vs.} \\qquad \\mathcal{H}_1: \\exist i \\ \\text{or} \\ k \\ \\text{s.t.} \\theta_{ik} \\neq \\ \\bar{\\theta} \n",
    "$\n",
    "\n",
    "And it appears we cannot reject $\\mathcal{H}_0$ unless we accept rejection with $\\alpha \\approx 0.2$. "
   ]
  },
  {
   "cell_type": "code",
   "execution_count": 17,
   "metadata": {},
   "outputs": [
    {
     "name": "stdout",
     "output_type": "stream",
     "text": [
      "Difference in Mean | Lower Bound | Upper Bound\n",
      "0.9900000691413879 -3.0 3.0\n",
      "0.8240000605583191 -3.1000001430511475 3.1000001430511475\n",
      "0.8030000329017639 -3.200000047683716 3.200000047683716\n",
      "1.0940001010894775 -2.4000000953674316 2.5\n",
      "1.6040000915527344 -2.4000000953674316 2.4000000953674316\n",
      "1.6600000858306885 -1.600000023841858 1.5\n",
      "-2.7960002422332764 -2.799999952316284 2.700000047683716\n",
      "-0.8520000576972961 -3.6000001430511475 3.6000001430511475\n",
      "-1.1890000104904175 -2.700000047683716 2.700000047683716\n",
      "-1.1080000400543213 -4.0 4.0\n",
      "-1.03000009059906 -3.9000000953674316 3.9000000953674316\n",
      "\n",
      "-----------------------------------\n",
      "\n",
      "\n"
     ]
    }
   ],
   "source": [
    "alpha = 0.2\n",
    "gamma = 1 - (1-alpha)**(1/sum([inf.mean_hardness.shape[0] for inf in sampled_inferences]))\n",
    "means = jnp.concat([inf.mean_hardness for inf in sampled_inferences],axis = 0)\n",
    "ci = jnp.concat([inf.confidence_interval(gamma) for inf in sampled_inferences],axis = 1)- means\n",
    "common_mean = means.mean()\n",
    "diff = means - common_mean\n",
    "print('Difference in Mean | Lower Bound | Upper Bound')\n",
    "for i in range(diff.shape[0]):\n",
    "    print(f'{round(diff[i]*100,3)} {np.round(ci[0,i]*100,1)} {np.round(ci[1,i]*100,1)}')\n",
    "\n",
    "print('\\n-----------------------------------\\n\\n')\n"
   ]
  },
  {
   "cell_type": "markdown",
   "metadata": {},
   "source": [
    "### Extrapolating $HV_\\Delta$ to Different W Alloys\n",
    "\n",
    "We'd like to assess if we can use these results for pure W to extrapolate to different alloys. Tschudia et al. provide data for several tungsten alloys annealed at different temperatures for 1 hour, plotted below. The data further confirms our hypothesis that $HV_\\Delta$ is independant of temperature. We can see that when the temperature is sufficiently high enough for the material to recrystallize in one hour, the hardness reaches a relatively constant value."
   ]
  },
  {
   "cell_type": "code",
   "execution_count": 18,
   "metadata": {},
   "outputs": [
    {
     "data": {
      "image/png": "[encoded data removed]",
      "text/plain": [
       "<Figure size 400x250 with 1 Axes>"
      ]
     },
     "metadata": {},
     "output_type": "display_data"
    }
   ],
   "source": [
    "fig,ax = default_axis(figsize = (4,2.5),\n",
    "                    xlabel = r'$T$ [$^\\circ C$]',\n",
    "                    ylabel = r'$HV$')\n",
    "\n",
    "alloys = ['Pure W data','K-doped W data','K-doped 3%Re W data']\n",
    "labels = ['Pure W','K-doped W',r'K-doped 3\\%Re W']\n",
    "for alloy,label,color,marker in zip(alloys,labels,[0.1,0.2,0.3],['s','o','h']):\n",
    "    df = pd.read_csv(f'rf_data/tschudia_data/tschudia_data_{alloy}.csv')\n",
    "\n",
    "    ax.errorbar(df['temperature'],df['hardness'].to_numpy(),yerr = df['hardness error'],fmt = 'none',ecolor = 'k',capsize = 2)\n",
    "    ax.scatter(df['temperature'],df['hardness'],facecolor  = plt.get_cmap('Set1')(color),edgecolor = 'k',\n",
    "            lw = 1.0,s = 40,marker = marker,zorder = 1000,label = label)\n",
    "\n",
    "ax.legend(fontsize = 9,ncol = 2)\n",
    "fig.tight_layout(pad = 0.1)"
   ]
  },
  {
   "cell_type": "markdown",
   "metadata": {},
   "source": [
    "We'll use the first value in each temperature series as $HV_0$ and the last three values as realizations of $HV_x$, leveraging temperature independance, to estimate $HV_\\Delta$ for each alloy. Measurements and reported standard deviations are estimated using the average of 5 points. We use the pooled estimator for the standard deviation of recrystallized hardness again.  "
   ]
  },
  {
   "cell_type": "code",
   "execution_count": 39,
   "metadata": {},
   "outputs": [
    {
     "name": "stderr",
     "output_type": "stream",
     "text": [
      "sample: 100%|██████████| 105000/105000 [00:22<00:00, 4743.97it/s, 3 steps of size 8.13e-01. acc. prob=0.91]\n",
      "sample: 100%|██████████| 105000/105000 [00:22<00:00, 4737.52it/s, 1 steps of size 7.15e-01. acc. prob=0.91] \n",
      "sample: 100%|██████████| 105000/105000 [00:21<00:00, 4823.91it/s, 3 steps of size 8.23e-01. acc. prob=0.89]\n"
     ]
    }
   ],
   "source": [
    "alloys = ['Pure W data','K-doped W data','K-doped 3%Re W data']\n",
    "infered_alloys = dict.fromkeys(alloys)\n",
    "for alloy in alloys:\n",
    "    df = pd.read_csv(f'rf_data/tschudia_data/tschudia_data_{alloy}.csv')\n",
    "    df.sort_values('temperature',inplace = True)\n",
    "    init_data = df.iloc[0:1][['hardness','hardness error']]\n",
    "    init_data.columns = ['HV','std']\n",
    "\n",
    "    rx_data = df.iloc[-3:][['hardness','hardness error']]\n",
    "    rx_mean = rx_data['hardness'].mean()\n",
    "    rx_std = (np.mean(rx_data['hardness error']**2) + rx_data['hardness'].var(ddof = 1))**0.5\n",
    "    rx_data = pd.DataFrame([[rx_mean,rx_std,15]],columns = ['HV','std','num_samples'])\n",
    "    infered_alloys[alloy] = run_inference(init_data,rx_data,rng_key_,num_data_samples = 5,\n",
    "                                          num_samples = 100000,num_warmup = 5000,num_chains = 1)\n",
    "\n"
   ]
  },
  {
   "cell_type": "markdown",
   "metadata": {},
   "source": [
    "### Displaying the Data\n",
    "Plotting the data on a scatter below, we can see that the mean reduction in hardness values all fall within a pretty consisten range, with the alloy of interest K-doped 3%Re W alloy, having the largest value. Also plotted is the common mean as a black dotted line, and 95% confidence intervals for all the data. \n",
    "\n",
    "The spread in the data for our alloy of interest is pretty large, and we'd like a reference value for reduction in hardness we can use as a reference across _all_ tungsten's, for multiple processing methods and alloys. It's a good idea to be conservative as well, so we'll use the 95% confidence interval upper bound across all tungsten alloys as our estimate. \n",
    "\n",
    "$HV_\\Delta = 22.3\\%$ isn't all the different from the mean for the specific tungsten alloy of $20.4\\%$ or the upper bound for the original W data of $20.5\\%$, and the small differences between these numbers won't make much impact on subsequent simulations. The number $HV_\\Delta = 22.3\\%$ has the benefit of being a conservative estimate for the reduction in hardness of the material due to recrystalliation if we don't know anything about a W material, _viz._ we are $95\\%$ confident that the hardness reduction due to recrystillization for some unknown W or W alloy is less than $22.3\\%$"
   ]
  },
  {
   "cell_type": "code",
   "execution_count": 49,
   "metadata": {},
   "outputs": [
    {
     "name": "stdout",
     "output_type": "stream",
     "text": [
      "                        Mean %  Lower Bound %  Upper Bound %\n",
      "Alfonso et. al. HR   18.219614      15.709215      20.455568\n",
      "Alfonso et. al. MR   15.662150      12.473726      18.837326\n",
      "Pure W data          20.100399      15.847367      24.180305\n",
      "K-doped W data       18.876886      13.438183      24.199968\n",
      "K-doped 3%Re W data  20.383394      14.300900      26.336771\n",
      "\n",
      "Common Mean: 17.6 Lower Bound 12.800000190734863 Upper Bound 22.299999237060547\n"
     ]
    },
    {
     "data": {
      "image/png": "[encoded data removed]",
      "text/plain": [
       "<Figure size 400x250 with 1 Axes>"
      ]
     },
     "metadata": {},
     "output_type": "display_data"
    }
   ],
   "source": [
    "alpha = 0.05\n",
    "\n",
    "\n",
    "index = []\n",
    "data = []\n",
    "all_samples = []\n",
    "#Get Pure W Results\n",
    "for label,inference in zip(labels,sampled_inferences):\n",
    "    all_samples.append(inference.hardness.flatten())\n",
    "    mean_hardness_reduction = inference.mean_hardness.mean()\n",
    "    ci = hpdi(inference.hardness.flatten(),1-alpha)\n",
    "    data.append([mean_hardness_reduction,ci[0],ci[1]])\n",
    "    index.append(label)\n",
    "\n",
    "#Get Tschudia Results\n",
    "for alloy in alloys:\n",
    "    all_samples.append(infered_alloys[alloy].hardness.flatten())\n",
    "    mean_hardness_reduction = infered_alloys[alloy].mean_hardness[0]\n",
    "    ci = infered_alloys[alloy].confidence_interval(alpha).squeeze()\n",
    "    data.append([mean_hardness_reduction,ci[0],ci[1]])\n",
    "    index.append(alloy)\n",
    "\n",
    "hr_df = pd.DataFrame(np.array(data)*100,index = index,columns = ['Mean %','Lower Bound %','Upper Bound %'])\n",
    "print(hr_df)\n",
    "print('')\n",
    "\n",
    "common_mean = np.concatenate(all_samples).mean()*100    \n",
    "common_ci = hpdi(np.concatenate(all_samples),1-alpha)*100\n",
    "\n",
    "print(f'Common Mean: {round(common_mean,1)} Lower Bound {round(common_ci[0],1)} Upper Bound {round(common_ci[1],1)}')\n",
    "fig,ax = default_axis(figsize = (4,2.5),\n",
    "                    xlabel = r'\\textbf{Alloy}',\n",
    "                    ylabel = r'$HV_\\Delta$')\n",
    "\n",
    "colors = np.concatenate([plt.get_cmap('Dark2')([0.1,0.2]),plt.get_cmap('Set1')([0.1,0.2,0.3])]) \n",
    "yerr = np.abs(hr_df[['Lower Bound %','Upper Bound %']].to_numpy().T - hr_df['Mean %'].to_numpy())\n",
    "ax.errorbar(np.arange(5),hr_df['Mean %'].to_numpy(),yerr = yerr,\n",
    "            fmt = 'none',ecolor = 'k',capsize = 2)\n",
    "ax.scatter(np.arange(5),hr_df['Mean %'].to_numpy(),facecolor  = colors,edgecolor = 'k',\n",
    "        lw = 1.0,s = 80,marker = 'h',zorder = 1000)\n",
    "ax.axhline(common_mean,color = 'k',ls = '--',lw = 1.0)\n",
    "ax.axhline(common_ci[0],color = 'k',ls = ':',lw = 0.75)\n",
    "ax.axhline(common_ci[1],color = 'k',ls = ':',lw = 0.75)\n",
    "ax.fill_between(np.linspace(-1,5),common_ci[0],common_ci[1],\n",
    "                color = plt.get_cmap('Set1')(0.7),alpha = 0.1)\n",
    "\n",
    "ax.set_xlim([-0.5,4.5])\n",
    "ax.set_xticks(np.arange(len(hr_df.index)))\n",
    "ax.set_xticklabels(hr_df.index, rotation=30, ha='right', fontsize=10)\n",
    "fig.tight_layout(pad = 0.1)"
   ]
  }
 ],
 "metadata": {
  "kernelspec": {
   "display_name": "py312",
   "language": "python",
   "name": "python3"
  },
  "language_info": {
   "codemirror_mode": {
    "name": "ipython",
    "version": 3
   },
   "file_extension": ".py",
   "mimetype": "text/x-python",
   "name": "python",
   "nbconvert_exporter": "python",
   "pygments_lexer": "ipython3",
   "version": "3.12.4"
  }
 },
 "nbformat": 4,
 "nbformat_minor": 2
}
