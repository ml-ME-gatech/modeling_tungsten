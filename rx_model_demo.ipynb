{
 "cells": [
  {
   "cell_type": "code",
   "execution_count": 7,
   "metadata": {},
   "outputs": [
    {
     "data": {
      "image/png": "[encoded data removed]",
      "text/plain": [
       "<Figure size 325x200 with 1 Axes>"
      ]
     },
     "metadata": {},
     "output_type": "display_data"
    }
   ],
   "source": [
    "from matplotlib import pyplot as plt,rc\n",
    "import numpy as np\n",
    "import pandas as pd\n",
    "from dataclasses import dataclass\n",
    "from recrystallization.common_util import setup_axis_default\n",
    "rc('font',**{'family':'serif','serif':['Times New Roman'],'weight': 'bold'})\n",
    "plt.rcParams[\"font.weight\"] = \"bold\"\n",
    "plt.rcParams[\"axes.labelweight\"] = \"bold\"\n",
    "rc('text', usetex=True)\n",
    "plt.rcParams['text.latex.preamble'] = \"\".join([r\"\\usepackage{newtxtext,newtxmath}\",r\"\\boldmath\"])\n",
    "\n",
    "@dataclass  \n",
    "class TriangularHeatFlux:\n",
    "\n",
    "    qmin: float\n",
    "    qmax: float\n",
    "    period: float\n",
    "    \n",
    "    def __post_init__(self):\n",
    "        self.slope = (self.qmax - self.qmin) / (self.period/2)\n",
    "\n",
    "    def __call__(self, t: float) -> float:\n",
    "        t = t % self.period\n",
    "        if t <= self.period/2:\n",
    "            return self.qmin + self.slope * t\n",
    "        \n",
    "        return self.qmax - self.slope * (t - self.period/2)\n",
    "\n",
    "\n",
    "transient_hf = TriangularHeatFlux(8e6, 25e6, 0.2)\n",
    "t = np.linspace(0, 0.2, 1000)\n",
    "hf = np.array([transient_hf(tt) for tt in t]).squeeze() \n",
    "\n",
    "t = np.concatenate([t,np.linspace(t[-1],10,1000)])\n",
    "hf = np.concatenate([hf,np.ones(1000)*8e6])\n",
    "\n",
    "fig,ax = plt.subplots(figsize = (3.25, 2.0))\n",
    "setup_axis_default(ax)\n",
    "ax.plot(t,hf*1e-6, lw = 1., color = 'k')\n",
    "ax.set_xlabel(r'\\textbf{Time [s]}')   \n",
    "ax.set_ylabel(r'\\textbf{Heat Flux [W/m$^2$]}')\n",
    "fig.tight_layout()\n",
    "fig.savefig('triangular_heat_flux.svg')\n",
    "\n"
   ]
  }
 ],
 "metadata": {
  "kernelspec": {
   "display_name": "py312",
   "language": "python",
   "name": "python3"
  },
  "language_info": {
   "codemirror_mode": {
    "name": "ipython",
    "version": 3
   },
   "file_extension": ".py",
   "mimetype": "text/x-python",
   "name": "python",
   "nbconvert_exporter": "python",
   "pygments_lexer": "ipython3",
   "version": "3.12.4"
  }
 },
 "nbformat": 4,
 "nbformat_minor": 2
}
