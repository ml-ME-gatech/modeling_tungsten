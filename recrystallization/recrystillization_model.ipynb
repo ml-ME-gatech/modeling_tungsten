{
 "cells": [
  {
   "cell_type": "code",
   "execution_count": null,
   "metadata": {},
   "outputs": [],
   "source": [
    "import numpy as np\n",
    "from matplotlib import pyplot as plt \n"
   ]
  },
  {
   "cell_type": "markdown",
   "metadata": {},
   "source": [
    "### Notes\n",
    "-  recrystallization of the warm-rolled tungsten plate is a thermally activated process governed by jumps of individual tungsten atoms. [1]\n",
    "- The 'incubation time' is then a period of recovery where sub-grains with low-angle boundaries (<1–2°) begin to accumulate dislocations and become increasingly \n",
    "misoriented with respect to their neighbors. The increase in misorientation increases the mobility of the boundary and so the rate of growth of the sub-grain increases.\n",
    "- Avrami Model are phenomenological models describing the kinetics of isothermal phase transitions which proceed through nucleation and growth.\n",
    "- Recrystallization being a thermally activated process, relationships between JMAK parameters and Ta are usually described by Arrhenius laws [2]\n",
    "- The Arrhenius equation gives the dependence of the rate constant of a chemical reaction on the absolute temperature as:\n",
    "    $k = A \\exp{-E_a/(RT)}$\n",
    "    - $k$ is the rate constant (frequency of collisions)\n",
    "    - $T$ is the absolute temperature.\n",
    "    - $A$ is a factor (possibly temperature dependent)\n",
    "    - $E_a$ is the molar activation energy for the reaction\n",
    "    - $R$ is the universal gas constant.\n",
    "- recrystallization temperatures depends on the level of cold deformation applied during manufacturing and values in the range 1100–1500 °C have been found [2]\n",
    "    - for example, Wang et. al [3] found that significantly reducing the thickness by rolling the samples saw large changes in the recrystaillization kinetics.\n",
    "- Premautre cracking in tungsten armor has been observed, attributed two competing rovery and recrystillization processes.\n",
    "- A recent investigation on two tungsten supplies according to ITER specifications has highlighted that hardness abatement at high temperature leads to overestimate the recrystallization fraction, which may be a consequence of the significant contribution of recovery during annealing\n",
    "- recovery is the decrease of dislocation density and other crystal defects over time\n",
    "- Neutron irradiation seems to increase the recrystallization resistance of W\n",
    "    - In W bar, void dissolution occurs before recrystallization, meaning that an annealing regime exists where a large part of the irradiation damage is healed while softening from recrystallization is avoided.\n",
    "- quantify recrystallization and recovery occurring in the same time by the means of hardness abatement and EBSD. It has clearly confirmed that there is a significant discrepancy between softening kinetics and recrystallization kinetics as claimed by Richou _ et al. _ [4]\n",
    "- Softening and recrystillization kinetics are distinct [4]\n",
    "\n",
    "1. A. Alfonso, D. Juul Jensen,G.-N. Luo,W. Pantleon, _Recrystallization kinetics of warm-rolled tungsten in the temperature range 1150–1350 C_ \n",
    "2. M.Richou _et al._, _Recrystallization at high temperature of two tungsten materials complying with the ITER specifications_\n",
    "3. Kang Wang, Xiang Zan, Ming Yu, Wolfgang Pantleon, Laima Luo, Xiaoyong Zhu, Ping Li, Yucheng Wua, _Effects of thickness reduction on recrystallization process of\n",
    "warm-rolled pure tungsten plates at 1350 C_ \n",
    "4. Durif _et al._, _Competition between recovery and recrystallization in two tungsten supplies according to ITER specifications_ "
   ]
  },
  {
   "cell_type": "markdown",
   "metadata": {},
   "source": [
    "### Assumptions of the Model\n",
    "1. The phase transformation occurs by nucleation and growth processes\n",
    "2. Germs are distributed homogenously and at random throughout the volume\n",
    "3. The nucleus critical size is 0\n",
    "4. The growth and nucleation laws are assumed given _a priori_\n",
    "5. growth is isotropic \n",
    "\n",
    "### Simple Model\n",
    "\n",
    "*Definition* (Nucleation)\n",
    "In thermodynamics, nucleation is the first step in the formation of either a new thermodynamic phase or structure via self-assembly or self-organization within a substance or mixture.\n",
    "\n",
    "*Definition* (Nucleation site)\n",
    "Also referred to as germ. A location where nucleation occurs.\n",
    "\n",
    "*Definition* (Grown Germ)\n",
    "Also referred to as either grain or nucleus. When a nucleation site grows.\n",
    "\n",
    "We begin with $\\alpha$ and the transformation $\\beta$ proceeds by nucleation of new particles at a rate $\\dot{N}$ per unit volume, which grow at a rate $\\dot{G}$ into spherical particles and only stop growing when impinge upon each other. \n",
    "\n",
    "on the time interval $\\tau \\in (0,t)$ nucleation and growth can only take place in untransformed material. On $\\tau \\in [\\tau + d\\tau]$ We consider the _extended volume_ the volume of $\\beta$ that would form if the entire sample (of volume $V$) was still $\\alpha$. \n",
    "\n",
    "$\n",
    "dN = V \\dot{N} d\\tau\n",
    "$\n",
    "\n",
    "The growth of the spheres radius is: $\\dot{G}(t - \\tau)$ so that the extended volume is:\n",
    "\n",
    "$\n",
    "dV_{\\beta}^e = \\frac{4 \\pi}{3}\\dot{G}^3(t - \\tau)^3 V \\dot{N} d\\tau\n",
    "$\n",
    "\n",
    "The total extended volume that appears in the interval $\\tau \\in [0,t]$ is:\n",
    "\n",
    "$\n",
    "V_{\\beta}^e = \\frac{\\pi}{3} V \\dot{N} \\dot{G}^3 t^4\n",
    "$\n",
    "\n",
    "Only a fraction of this extended volume is real, some of it lies within previously transformed material. The fraction of the real volume during each time increment is proportional to the volume fraction of _untransformed_ $\\alpha$, thus:\n",
    "\n",
    "$\n",
    "dV_{\\beta} = dV_{\\beta}^{e}\\left(1 - \\frac{V_{\\beta}}{V} \\right) \\implies \\ln{(1 - X)} = -\\frac{V_\\beta^e}{V} \\qquad X = V_\\beta/V \\\\ \n",
    "X = 1 - \\exp{(-K \\cdot t^n)} \\qquad K = \\pi \\dot{N} \\dot{G}^3/3 \\ , \\ n = 4\n",
    "$\n",
    "\n",
    "where $X$ is the _fraction_ of phase changed material."
   ]
  },
  {
   "cell_type": "markdown",
   "metadata": {},
   "source": [
    "### Visualizing the Data"
   ]
  },
  {
   "cell_type": "code",
   "execution_count": null,
   "metadata": {},
   "outputs": [],
   "source": []
  },
  {
   "cell_type": "markdown",
   "metadata": {},
   "source": [
    "### Relationship to Mechanical Properties\n",
    "\n",
    "TO DO\n",
    "- relate yield strength and/or young's modulus to hardness analytically\n",
    "- relate hardness to recrsyillization or demonstrate relationship graphically. \n",
    "- obvious relationship of yield strength and UTS\n",
    "- UTS/youngs modulus to ITER criteria\n",
    "- establish dependency of ITER criteria on recystilliation of material. \n",
    "- Determine RT as function of _operating time_ of plant.\n"
   ]
  }
 ],
 "metadata": {
  "kernelspec": {
   "display_name": "py312",
   "language": "python",
   "name": "python3"
  },
  "language_info": {
   "name": "python",
   "version": "3.12.4"
  }
 },
 "nbformat": 4,
 "nbformat_minor": 2
}
