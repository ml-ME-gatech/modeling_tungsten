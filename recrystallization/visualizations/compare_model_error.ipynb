{
 "cells": [
  {
   "cell_type": "code",
   "execution_count": 2,
   "metadata": {},
   "outputs": [],
   "source": [
    "import numpy as np\n",
    "import pandas as pd\n",
    "import pickle\n",
    "#path stuff\n",
    "from pathlib import WindowsPath, PosixPath\n",
    "import sys\n",
    "PathPath = WindowsPath if 'win' in sys.platform.lower() else PosixPath\n",
    "PARENT_DIR = PathPath('../')\n",
    "INFERENCE_PATH = PARENT_DIR.joinpath('.inference')  \n",
    "GIT_TABLE_PATH = PARENT_DIR.joinpath('.git_tables')\n",
    "sys.path.append(str(PARENT_DIR))\n",
    "from common_util import _FILE_TO_LABEL as file_to_label,markdown_table_from_df,hdi"
   ]
  },
  {
   "cell_type": "markdown",
   "metadata": {},
   "source": [
    "### Extract Model Inadequcies for Comparison\n",
    "compare the calibrated model inadquency between the combined inference and independent inference to evaluate the impact of considering each of the datasets together."
   ]
  },
  {
   "cell_type": "code",
   "execution_count": 4,
   "metadata": {},
   "outputs": [
    {
     "ename": "ImportError",
     "evalue": "Missing optional dependency 'tabulate'.  Use pip or conda to install tabulate.",
     "output_type": "error",
     "traceback": [
      "\u001b[31m---------------------------------------------------------------------------\u001b[39m",
      "\u001b[31mModuleNotFoundError\u001b[39m                       Traceback (most recent call last)",
      "\u001b[36mFile \u001b[39m\u001b[32mc:\\Users\\micha\\AppData\\Local\\Programs\\Python\\Python313\\Lib\\site-packages\\pandas\\compat\\_optional.py:135\u001b[39m, in \u001b[36mimport_optional_dependency\u001b[39m\u001b[34m(name, extra, errors, min_version)\u001b[39m\n\u001b[32m    134\u001b[39m \u001b[38;5;28;01mtry\u001b[39;00m:\n\u001b[32m--> \u001b[39m\u001b[32m135\u001b[39m     module = \u001b[43mimportlib\u001b[49m\u001b[43m.\u001b[49m\u001b[43mimport_module\u001b[49m\u001b[43m(\u001b[49m\u001b[43mname\u001b[49m\u001b[43m)\u001b[49m\n\u001b[32m    136\u001b[39m \u001b[38;5;28;01mexcept\u001b[39;00m \u001b[38;5;167;01mImportError\u001b[39;00m:\n",
      "\u001b[36mFile \u001b[39m\u001b[32mc:\\Users\\micha\\AppData\\Local\\Programs\\Python\\Python313\\Lib\\importlib\\__init__.py:88\u001b[39m, in \u001b[36mimport_module\u001b[39m\u001b[34m(name, package)\u001b[39m\n\u001b[32m     87\u001b[39m         level += \u001b[32m1\u001b[39m\n\u001b[32m---> \u001b[39m\u001b[32m88\u001b[39m \u001b[38;5;28;01mreturn\u001b[39;00m \u001b[43m_bootstrap\u001b[49m\u001b[43m.\u001b[49m\u001b[43m_gcd_import\u001b[49m\u001b[43m(\u001b[49m\u001b[43mname\u001b[49m\u001b[43m[\u001b[49m\u001b[43mlevel\u001b[49m\u001b[43m:\u001b[49m\u001b[43m]\u001b[49m\u001b[43m,\u001b[49m\u001b[43m \u001b[49m\u001b[43mpackage\u001b[49m\u001b[43m,\u001b[49m\u001b[43m \u001b[49m\u001b[43mlevel\u001b[49m\u001b[43m)\u001b[49m\n",
      "\u001b[36mFile \u001b[39m\u001b[32m<frozen importlib._bootstrap>:1387\u001b[39m, in \u001b[36m_gcd_import\u001b[39m\u001b[34m(name, package, level)\u001b[39m\n",
      "\u001b[36mFile \u001b[39m\u001b[32m<frozen importlib._bootstrap>:1360\u001b[39m, in \u001b[36m_find_and_load\u001b[39m\u001b[34m(name, import_)\u001b[39m\n",
      "\u001b[36mFile \u001b[39m\u001b[32m<frozen importlib._bootstrap>:1324\u001b[39m, in \u001b[36m_find_and_load_unlocked\u001b[39m\u001b[34m(name, import_)\u001b[39m\n",
      "\u001b[31mModuleNotFoundError\u001b[39m: No module named 'tabulate'",
      "\nDuring handling of the above exception, another exception occurred:\n",
      "\u001b[31mImportError\u001b[39m                               Traceback (most recent call last)",
      "\u001b[36mCell\u001b[39m\u001b[36m \u001b[39m\u001b[32mIn[4]\u001b[39m\u001b[32m, line 21\u001b[39m\n\u001b[32m     17\u001b[39m combined_sigma = pd.Series(posterior_samples[\u001b[33m'\u001b[39m\u001b[33msigma\u001b[39m\u001b[33m'\u001b[39m].mean(axis=\u001b[32m0\u001b[39m),index=data_names,\n\u001b[32m     18\u001b[39m                            name = \u001b[33m'\u001b[39m\u001b[33mcombined\u001b[39m\u001b[33m'\u001b[39m)\n\u001b[32m     20\u001b[39m model_error = pd.concat([individual_sigma,combined_sigma],axis=\u001b[32m1\u001b[39m)\n\u001b[32m---> \u001b[39m\u001b[32m21\u001b[39m table = \u001b[43mmarkdown_table_from_df\u001b[49m\u001b[43m(\u001b[49m\u001b[43mnp\u001b[49m\u001b[43m.\u001b[49m\u001b[43mround\u001b[49m\u001b[43m(\u001b[49m\u001b[43mmodel_error\u001b[49m\u001b[43m,\u001b[49m\u001b[32;43m4\u001b[39;49m\u001b[43m)\u001b[49m\u001b[43m,\u001b[49m\n\u001b[32m     22\u001b[39m \u001b[43m                               \u001b[49m\u001b[33;43m'\u001b[39;49m\u001b[33;43mIndependent vs. Combined Error Comparison\u001b[39;49m\u001b[33;43m'\u001b[39;49m\u001b[43m,\u001b[49m\n\u001b[32m     23\u001b[39m \u001b[43m                               \u001b[49m\u001b[33;43m'\u001b[39;49m\u001b[33;43mRecrystallization model inadequecy standard deviation comparison across datasets\u001b[39;49m\u001b[33;43m'\u001b[39;49m\u001b[43m)\u001b[49m\n\u001b[32m     25\u001b[39m \u001b[38;5;28;01mwith\u001b[39;00m \u001b[38;5;28mopen\u001b[39m(GIT_TABLE_PATH.joinpath(\u001b[33m'\u001b[39m\u001b[33mmodel_error_comparison_truncated_normal.tbl\u001b[39m\u001b[33m'\u001b[39m),\u001b[33m'\u001b[39m\u001b[33mw\u001b[39m\u001b[33m'\u001b[39m) \u001b[38;5;28;01mas\u001b[39;00m f:    \n\u001b[32m     26\u001b[39m     f.write(table)\n",
      "\u001b[36mFile \u001b[39m\u001b[32mc:\\Users\\micha\\OneDrive\\Documents\\projects\\modeling_tungsten\\recrystallization\\visualizations\\..\\common_util.py:526\u001b[39m, in \u001b[36mmarkdown_table_from_df\u001b[39m\u001b[34m(df, title, caption, replace_nan)\u001b[39m\n\u001b[32m    520\u001b[39m \u001b[38;5;28;01mdef\u001b[39;00m\u001b[38;5;250m \u001b[39m\u001b[34mmarkdown_table_from_df\u001b[39m(df: pd.DataFrame,\n\u001b[32m    521\u001b[39m                             title: \u001b[38;5;28mstr\u001b[39m,\n\u001b[32m    522\u001b[39m                             caption: \u001b[38;5;28mstr\u001b[39m,\n\u001b[32m    523\u001b[39m                             replace_nan: \u001b[38;5;28mstr\u001b[39m = \u001b[33m'\u001b[39m\u001b[33mN/A\u001b[39m\u001b[33m'\u001b[39m) -> \u001b[38;5;28mstr\u001b[39m:\n\u001b[32m    525\u001b[39m     title_caption = \u001b[33m'\u001b[39m\u001b[33m**\u001b[39m\u001b[33m'\u001b[39m + title + \u001b[33m'\u001b[39m\u001b[33m**:\u001b[39m\u001b[33m'\u001b[39m + caption + \u001b[33m'\u001b[39m\u001b[38;5;130;01m\\n\u001b[39;00m\u001b[33m'\u001b[39m\n\u001b[32m--> \u001b[39m\u001b[32m526\u001b[39m     table_str = \u001b[43mdf\u001b[49m\u001b[43m.\u001b[49m\u001b[43mto_markdown\u001b[49m\u001b[43m(\u001b[49m\u001b[43m)\u001b[49m\n\u001b[32m    527\u001b[39m     \u001b[38;5;28;01mif\u001b[39;00m replace_nan \u001b[38;5;129;01mis\u001b[39;00m \u001b[38;5;129;01mnot\u001b[39;00m \u001b[38;5;28;01mNone\u001b[39;00m:\n\u001b[32m    528\u001b[39m         table_str = table_str.replace(\u001b[33m'\u001b[39m\u001b[33mnan\u001b[39m\u001b[33m'\u001b[39m,replace_nan)\n",
      "\u001b[36mFile \u001b[39m\u001b[32mc:\\Users\\micha\\AppData\\Local\\Programs\\Python\\Python313\\Lib\\site-packages\\pandas\\util\\_decorators.py:333\u001b[39m, in \u001b[36mdeprecate_nonkeyword_arguments.<locals>.decorate.<locals>.wrapper\u001b[39m\u001b[34m(*args, **kwargs)\u001b[39m\n\u001b[32m    327\u001b[39m \u001b[38;5;28;01mif\u001b[39;00m \u001b[38;5;28mlen\u001b[39m(args) > num_allow_args:\n\u001b[32m    328\u001b[39m     warnings.warn(\n\u001b[32m    329\u001b[39m         msg.format(arguments=_format_argument_list(allow_args)),\n\u001b[32m    330\u001b[39m         \u001b[38;5;167;01mFutureWarning\u001b[39;00m,\n\u001b[32m    331\u001b[39m         stacklevel=find_stack_level(),\n\u001b[32m    332\u001b[39m     )\n\u001b[32m--> \u001b[39m\u001b[32m333\u001b[39m \u001b[38;5;28;01mreturn\u001b[39;00m \u001b[43mfunc\u001b[49m\u001b[43m(\u001b[49m\u001b[43m*\u001b[49m\u001b[43margs\u001b[49m\u001b[43m,\u001b[49m\u001b[43m \u001b[49m\u001b[43m*\u001b[49m\u001b[43m*\u001b[49m\u001b[43mkwargs\u001b[49m\u001b[43m)\u001b[49m\n",
      "\u001b[36mFile \u001b[39m\u001b[32mc:\\Users\\micha\\AppData\\Local\\Programs\\Python\\Python313\\Lib\\site-packages\\pandas\\core\\frame.py:2983\u001b[39m, in \u001b[36mDataFrame.to_markdown\u001b[39m\u001b[34m(self, buf, mode, index, storage_options, **kwargs)\u001b[39m\n\u001b[32m   2981\u001b[39m kwargs.setdefault(\u001b[33m\"\u001b[39m\u001b[33mtablefmt\u001b[39m\u001b[33m\"\u001b[39m, \u001b[33m\"\u001b[39m\u001b[33mpipe\u001b[39m\u001b[33m\"\u001b[39m)\n\u001b[32m   2982\u001b[39m kwargs.setdefault(\u001b[33m\"\u001b[39m\u001b[33mshowindex\u001b[39m\u001b[33m\"\u001b[39m, index)\n\u001b[32m-> \u001b[39m\u001b[32m2983\u001b[39m tabulate = \u001b[43mimport_optional_dependency\u001b[49m\u001b[43m(\u001b[49m\u001b[33;43m\"\u001b[39;49m\u001b[33;43mtabulate\u001b[39;49m\u001b[33;43m\"\u001b[39;49m\u001b[43m)\u001b[49m\n\u001b[32m   2984\u001b[39m result = tabulate.tabulate(\u001b[38;5;28mself\u001b[39m, **kwargs)\n\u001b[32m   2985\u001b[39m \u001b[38;5;28;01mif\u001b[39;00m buf \u001b[38;5;129;01mis\u001b[39;00m \u001b[38;5;28;01mNone\u001b[39;00m:\n",
      "\u001b[36mFile \u001b[39m\u001b[32mc:\\Users\\micha\\AppData\\Local\\Programs\\Python\\Python313\\Lib\\site-packages\\pandas\\compat\\_optional.py:138\u001b[39m, in \u001b[36mimport_optional_dependency\u001b[39m\u001b[34m(name, extra, errors, min_version)\u001b[39m\n\u001b[32m    136\u001b[39m \u001b[38;5;28;01mexcept\u001b[39;00m \u001b[38;5;167;01mImportError\u001b[39;00m:\n\u001b[32m    137\u001b[39m     \u001b[38;5;28;01mif\u001b[39;00m errors == \u001b[33m\"\u001b[39m\u001b[33mraise\u001b[39m\u001b[33m\"\u001b[39m:\n\u001b[32m--> \u001b[39m\u001b[32m138\u001b[39m         \u001b[38;5;28;01mraise\u001b[39;00m \u001b[38;5;167;01mImportError\u001b[39;00m(msg)\n\u001b[32m    139\u001b[39m     \u001b[38;5;28;01mreturn\u001b[39;00m \u001b[38;5;28;01mNone\u001b[39;00m\n\u001b[32m    141\u001b[39m \u001b[38;5;66;03m# Handle submodules: if we have submodule, grab parent module from sys.modules\u001b[39;00m\n",
      "\u001b[31mImportError\u001b[39m: Missing optional dependency 'tabulate'.  Use pip or conda to install tabulate."
     ]
    }
   ],
   "source": [
    "model_name = 'JMAK_{}'\n",
    "\n",
    "data_names = [v for k,v in file_to_label.items() if 'shah' not in k.lower()]\n",
    "\n",
    "sigma = []\n",
    "for data_name in data_names:\n",
    "    with open(INFERENCE_PATH.joinpath(f'{model_name.format(data_name)}_trunc_normal_samples.pkl'),'rb') as f:\n",
    "        samples = pd.DataFrame.from_dict(pickle.load(f))\n",
    "    sigma.append(samples['sigma'].mean())\n",
    "\n",
    "individual_sigma = pd.Series(sigma,index=data_names,\n",
    "                             name = 'individual')\n",
    "\n",
    "with open(INFERENCE_PATH.joinpath(f'{model_name.format(\"hierarchical\")}_trunc_normal_samples.pkl'),'rb') as f:\n",
    "    posterior_samples = pickle.load(f)\n",
    "\n",
    "combined_sigma = pd.Series(posterior_samples['sigma'].mean(axis=0),index=data_names,\n",
    "                           name = 'combined')\n",
    "\n",
    "model_error = pd.concat([individual_sigma,combined_sigma],axis=1)\n",
    "table = markdown_table_from_df(np.round(model_error,4),\n",
    "                               'Independent vs. Combined Error Comparison',\n",
    "                               'Recrystallization model inadequecy standard deviation comparison across datasets')\n",
    "\n",
    "with open(GIT_TABLE_PATH.joinpath('model_error_comparison_truncated_normal.tbl'),'w') as f:    \n",
    "    f.write(table)\n"
   ]
  },
  {
   "cell_type": "markdown",
   "metadata": {},
   "source": [
    "### Put Estimated Parameters into a table\n",
    "\n",
    "mean, ML and upper/lower bounds. "
   ]
  },
  {
   "cell_type": "code",
   "execution_count": null,
   "metadata": {},
   "outputs": [
    {
     "name": "stdout",
     "output_type": "stream",
     "text": [
      "Lopez et al. (2015) - HR & $13.2 \\pm 1.8 (\\mathbf{14.2}) & $-3.4 \\pm 0.25 (\\mathbf{-3.6}) & $-21.0 \\pm 1.6 (\\mathbf{-20.0}) & $4.6 \\pm 0.21 (\\mathbf{4.5}) & $1.7 \\pm 0.38 (\\mathbf{1.5}) & $0.03 \\pm 0 (\\mathbf{0})\n",
      "Lopez et al. (2015) - MR & $33.3 \\pm 0.52 (\\mathbf{33.8}) & $-7.0 \\pm 0.08 (\\mathbf{-7.0}) & $-45.2 \\pm 18.2 (\\mathbf{-8.6}) & $4.8 \\pm 2.7 (\\mathbf{2.5}) & $3.4 \\pm 0.39 (\\mathbf{3.2}) & $0.08 \\pm 0 (\\mathbf{0.06})\n",
      "Richou et al. (2020) - Batch A & $27.4 \\pm 1.4 (\\mathbf{27.0}) & $-6.2 \\pm 0.25 (\\mathbf{-6.1}) & $-45.0 \\pm 44.6 (\\mathbf{-26.7}) & $-2.0 \\pm 7.9 (\\mathbf{-7.8}) & $2.6 \\pm 0.45 (\\mathbf{2.5}) & $0.02 \\pm 0 (\\mathbf{0})\n",
      "Richou et al. (2020) - Batch B & $19.7 \\pm 0.99 (\\mathbf{19.8}) & $-4.9 \\pm 0.19 (\\mathbf{-4.9}) & $-69.1 \\pm 54.3 (\\mathbf{-13.6}) & $-0.28 \\pm 10.4 (\\mathbf{-25.4}) & $3.0 \\pm 0.83 (\\mathbf{3.0}) & $0.02 \\pm 0.02 (\\mathbf{0})\n",
      "Yu et al. (2017) & $5.7 \\pm 2.0 (\\mathbf{3.1}) & $-2.3 \\pm 0.31 (\\mathbf{-1.9}) & $-49.4 \\pm 45.8 (\\mathbf{-29.6}) & $-0.89 \\pm 7.2 (\\mathbf{5.7}) & $1.6 \\pm 0.26 (\\mathbf{1.1}) & $0.1 \\pm 0.02 (\\mathbf{0.06})\n",
      "Shah et al. (2021) & $26.7 \\pm 2.7 (\\mathbf{26.3}) & $-5.6 \\pm 0.44 (\\mathbf{-5.6}) & $-127.9 \\pm 64.4 (\\mathbf{-185.0}) & $-7.6 \\pm 11.1 (\\mathbf{7.3}) & $0.63 \\pm 0.08 (\\mathbf{0.62}) & $0.04 \\pm 0 (\\mathbf{0.02})\n",
      "\n"
     ]
    },
    {
     "name": "stderr",
     "output_type": "stream",
     "text": [
      "<>:17: SyntaxWarning: invalid escape sequence '\\p'\n",
      "<>:17: SyntaxWarning: invalid escape sequence '\\m'\n",
      "<>:17: SyntaxWarning: invalid escape sequence '\\p'\n",
      "<>:17: SyntaxWarning: invalid escape sequence '\\m'\n",
      "C:\\Users\\micha\\AppData\\Local\\Temp\\ipykernel_7164\\2003442687.py:17: SyntaxWarning: invalid escape sequence '\\p'\n",
      "  return f'${vr(mean)} \\pm {vr(std)} (\\mathbf'+ '{' + str(vr(ml)) + '})'\n",
      "C:\\Users\\micha\\AppData\\Local\\Temp\\ipykernel_7164\\2003442687.py:17: SyntaxWarning: invalid escape sequence '\\m'\n",
      "  return f'${vr(mean)} \\pm {vr(std)} (\\mathbf'+ '{' + str(vr(ml)) + '})'\n"
     ]
    }
   ],
   "source": [
    "def vr(x_: float) -> float:\n",
    "    x = abs(x_)\n",
    "    if x >= 1:\n",
    "        return round(x_,1)\n",
    "    elif x < 1 and x > 0.1:\n",
    "        return round(x_,2)\n",
    "    elif x <= 0.1 and x > 0.01:\n",
    "        return round(x_,3)\n",
    "    else:\n",
    "        return 0\n",
    "    \n",
    "\n",
    "def format_cell(mean: float,\n",
    "                ml: float,\n",
    "                std: float) -> str:\n",
    "    \n",
    "    return f'${vr(mean)} \\pm {vr(std)} (\\mathbf'+ '{' + str(vr(ml)) + '})'\n",
    "\n",
    "def format_row(summary: pd.DataFrame) -> str:\n",
    "    \n",
    "    text = ''\n",
    "    for param in summary.columns:\n",
    "        text += format_cell(summary.loc['mean',param],\n",
    "                            summary.loc['ml',param],\n",
    "                            summary.loc['std',param])\n",
    "        text += ' & '\n",
    "    \n",
    "    return text[:-3]\n",
    "\n",
    "model_name = 'Generalized Logistic_{}'\n",
    "\n",
    "data_names = [v for k,v in file_to_label.items()]\n",
    "\n",
    "text = ''\n",
    "for data_name in data_names:\n",
    "    inf_summary = pd.read_csv(INFERENCE_PATH.joinpath(f'{model_name.format(data_name)}_trunc_normal_params.csv'),index_col = 0).T\n",
    "    inf_summary['B1']/=1e4\n",
    "    inf_summary['B2']/=1e4\n",
    "    row = data_name + ' & ' + format_row(round(inf_summary,2)) + '\\n'\n",
    "    text += row\n",
    "\n",
    "print(text)\n",
    "\n",
    "\n",
    "\n"
   ]
  }
 ],
 "metadata": {
  "kernelspec": {
   "display_name": "Python 3",
   "language": "python",
   "name": "python3"
  },
  "language_info": {
   "codemirror_mode": {
    "name": "ipython",
    "version": 3
   },
   "file_extension": ".py",
   "mimetype": "text/x-python",
   "name": "python",
   "nbconvert_exporter": "python",
   "pygments_lexer": "ipython3",
   "version": "3.13.2"
  }
 },
 "nbformat": 4,
 "nbformat_minor": 2
}
