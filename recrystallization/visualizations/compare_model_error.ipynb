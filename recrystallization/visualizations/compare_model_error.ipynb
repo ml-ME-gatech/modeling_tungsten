{
 "cells": [
  {
   "cell_type": "code",
   "execution_count": 1,
   "metadata": {},
   "outputs": [],
   "source": [
    "import numpy as np\n",
    "import pandas as pd\n",
    "import pickle\n",
    "#path stuff\n",
    "from pathlib import WindowsPath, PosixPath\n",
    "import sys\n",
    "PathPath = WindowsPath if 'win' in sys.platform.lower() else PosixPath\n",
    "PARENT_DIR = PathPath('../')\n",
    "INFERENCE_PATH = PARENT_DIR.joinpath('.inference')  \n",
    "GIT_TABLE_PATH = PARENT_DIR.joinpath('.git_tables')\n",
    "sys.path.append(str(PARENT_DIR))\n",
    "from common_util import _FILE_TO_LABEL as file_to_label,markdown_table_from_df"
   ]
  },
  {
   "cell_type": "markdown",
   "metadata": {},
   "source": [
    "### Extract Model Inadequcies for Comparison\n",
    "compare the calibrated model inadquency between the combined inference and independent inference to evaluate the impact of considering each of the datasets together."
   ]
  },
  {
   "cell_type": "code",
   "execution_count": 4,
   "metadata": {},
   "outputs": [],
   "source": [
    "model_name = 'JMAK_{}'\n",
    "\n",
    "data_names = [v for k,v in file_to_label.items() if 'shah' not in k.lower()]\n",
    "\n",
    "sigma = []\n",
    "for data_name in data_names:\n",
    "    with open(INFERENCE_PATH.joinpath(f'{model_name.format(data_name)}_trunc_normal_samples.pkl'),'rb') as f:\n",
    "        samples = pd.DataFrame.from_dict(pickle.load(f))\n",
    "    sigma.append(samples['sigma'].mean())\n",
    "\n",
    "individual_sigma = pd.Series(sigma,index=data_names,\n",
    "                             name = 'individual')\n",
    "\n",
    "with open(INFERENCE_PATH.joinpath(f'{model_name.format(\"hierarchical\")}_trunc_normal_samples.pkl'),'rb') as f:\n",
    "    posterior_samples = pickle.load(f)\n",
    "\n",
    "combined_sigma = pd.Series(posterior_samples['sigma'].mean(axis=0),index=data_names,\n",
    "                           name = 'combined')\n",
    "\n",
    "model_error = pd.concat([individual_sigma,combined_sigma],axis=1)\n",
    "table = markdown_table_from_df(np.round(model_error,4),\n",
    "                               'Independent vs. Combined Error Comparison',\n",
    "                               'Recrystallization model inadequecy standard deviation comparison across datasets')\n",
    "\n",
    "with open(GIT_TABLE_PATH.joinpath('model_error_comparison_truncated_normal.tbl'),'w') as f:    \n",
    "    f.write(table)\n"
   ]
  }
 ],
 "metadata": {
  "kernelspec": {
   "display_name": "py312",
   "language": "python",
   "name": "python3"
  },
  "language_info": {
   "codemirror_mode": {
    "name": "ipython",
    "version": 3
   },
   "file_extension": ".py",
   "mimetype": "text/x-python",
   "name": "python",
   "nbconvert_exporter": "python",
   "pygments_lexer": "ipython3",
   "version": "3.12.4"
  }
 },
 "nbformat": 4,
 "nbformat_minor": 2
}
