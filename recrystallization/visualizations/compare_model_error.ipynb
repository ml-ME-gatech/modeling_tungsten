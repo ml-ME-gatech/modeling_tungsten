{
 "cells": [
  {
   "cell_type": "code",
   "execution_count": 1,
   "metadata": {},
   "outputs": [],
   "source": [
    "import numpy as np\n",
    "import pandas as pd\n",
    "import pickle\n",
    "#path stuff\n",
    "from pathlib import WindowsPath, PosixPath\n",
    "import sys\n",
    "PathPath = WindowsPath if 'win' in sys.platform.lower() else PosixPath\n",
    "PARENT_DIR = PathPath('../')\n",
    "INFERENCE_PATH = PARENT_DIR.joinpath('.inference')  \n",
    "GIT_TABLE_PATH = PARENT_DIR.joinpath('.git_tables')\n",
    "sys.path.append(str(PARENT_DIR))\n",
    "from common_util import _FILE_TO_LABEL as file_to_label,markdown_table_from_df"
   ]
  },
  {
   "cell_type": "markdown",
   "metadata": {},
   "source": [
    "### Extract Model Inadequcies for Comparison\n",
    "compare the calibrated model inadquency between the combined inference and independent inference to evaluate the impact of considering each of the datasets together."
   ]
  },
  {
   "cell_type": "code",
   "execution_count": null,
   "metadata": {},
   "outputs": [
    {
     "ename": "TypeError",
     "evalue": "'dict_values' object is not subscriptable",
     "output_type": "error",
     "traceback": [
      "\u001b[1;31m---------------------------------------------------------------------------\u001b[0m",
      "\u001b[1;31mTypeError\u001b[0m                                 Traceback (most recent call last)",
      "Cell \u001b[1;32mIn[3], line 15\u001b[0m\n\u001b[0;32m     12\u001b[0m \u001b[38;5;28;01mwith\u001b[39;00m \u001b[38;5;28mopen\u001b[39m(INFERENCE_PATH\u001b[38;5;241m.\u001b[39mjoinpath(\u001b[38;5;124mf\u001b[39m\u001b[38;5;124m'\u001b[39m\u001b[38;5;132;01m{\u001b[39;00mmodel_name\u001b[38;5;241m.\u001b[39mformat(\u001b[38;5;124m\"\u001b[39m\u001b[38;5;124mhierarchical\u001b[39m\u001b[38;5;124m\"\u001b[39m)\u001b[38;5;132;01m}\u001b[39;00m\u001b[38;5;124m_trunc_normal_samples.pkl\u001b[39m\u001b[38;5;124m'\u001b[39m),\u001b[38;5;124m'\u001b[39m\u001b[38;5;124mrb\u001b[39m\u001b[38;5;124m'\u001b[39m) \u001b[38;5;28;01mas\u001b[39;00m f:\n\u001b[0;32m     13\u001b[0m     posterior_samples \u001b[38;5;241m=\u001b[39m pickle\u001b[38;5;241m.\u001b[39mload(f)\n\u001b[1;32m---> 15\u001b[0m combined_sigma \u001b[38;5;241m=\u001b[39m pd\u001b[38;5;241m.\u001b[39mSeries(posterior_samples[\u001b[38;5;124m'\u001b[39m\u001b[38;5;124msigma\u001b[39m\u001b[38;5;124m'\u001b[39m]\u001b[38;5;241m.\u001b[39mmean(axis\u001b[38;5;241m=\u001b[39m\u001b[38;5;241m0\u001b[39m),index\u001b[38;5;241m=\u001b[39m\u001b[43mfile_to_label\u001b[49m\u001b[38;5;241;43m.\u001b[39;49m\u001b[43mvalues\u001b[49m\u001b[43m(\u001b[49m\u001b[43m)\u001b[49m\u001b[43m[\u001b[49m\u001b[43m:\u001b[49m\u001b[38;5;241;43m-\u001b[39;49m\u001b[38;5;241;43m1\u001b[39;49m\u001b[43m]\u001b[49m,\n\u001b[0;32m     16\u001b[0m                            name \u001b[38;5;241m=\u001b[39m \u001b[38;5;124m'\u001b[39m\u001b[38;5;124mcombined\u001b[39m\u001b[38;5;124m'\u001b[39m)\n\u001b[0;32m     18\u001b[0m model_error \u001b[38;5;241m=\u001b[39m pd\u001b[38;5;241m.\u001b[39mconcat([individual_sigma,combined_sigma],axis\u001b[38;5;241m=\u001b[39m\u001b[38;5;241m1\u001b[39m)\n\u001b[0;32m     19\u001b[0m table \u001b[38;5;241m=\u001b[39m markdown_table_from_df(np\u001b[38;5;241m.\u001b[39mround(model_error,\u001b[38;5;241m4\u001b[39m),\n\u001b[0;32m     20\u001b[0m                                \u001b[38;5;124m'\u001b[39m\u001b[38;5;124mIndependent vs. Combined Error Comparison\u001b[39m\u001b[38;5;124m'\u001b[39m,\n\u001b[0;32m     21\u001b[0m                                \u001b[38;5;124m'\u001b[39m\u001b[38;5;124mRecrystallization model inadequecy standard deviation comparison across datasets\u001b[39m\u001b[38;5;124m'\u001b[39m)\n",
      "\u001b[1;31mTypeError\u001b[0m: 'dict_values' object is not subscriptable"
     ]
    }
   ],
   "source": [
    "model_name = 'JMAK_{}'\n",
    "\n",
    "data_names = [v for k,v in file_to_label.items() if 'shah' not in k.lower()]\n",
    "\n",
    "sigma = []\n",
    "for data_name in data_names:\n",
    "    with open(INFERENCE_PATH.joinpath(f'{model_name.format(data_name)}_trunc_normal_samples.pkl'),'rb') as f:\n",
    "        samples = pd.DataFrame.from_dict(pickle.load(f))\n",
    "    sigma.append(samples['sigma'].mean())\n",
    "\n",
    "individual_sigma = pd.Series(sigma,index=data_names,\n",
    "                             name = 'individual')\n",
    "\n",
    "with open(INFERENCE_PATH.joinpath(f'{model_name.format(\"hierarchical\")}_trunc_normal_samples.pkl'),'rb') as f:\n",
    "    posterior_samples = pickle.load(f)\n",
    "\n",
    "combined_sigma = pd.Series(posterior_samples['sigma'].mean(axis=0),index=data_names,\n",
    "                           name = 'combined')\n",
    "\n",
    "model_error = pd.concat([individual_sigma,combined_sigma],axis=1)\n",
    "table = markdown_table_from_df(np.round(model_error,4),\n",
    "                               'Independent vs. Combined Error Comparison',\n",
    "                               'Recrystallization model inadequecy standard deviation comparison across datasets')\n",
    "\n",
    "with open(GIT_TABLE_PATH.joinpath('model_error_comparison_truncated_normal.tbl'),'w') as f:    \n",
    "    f.write(table)\n"
   ]
  }
 ],
 "metadata": {
  "kernelspec": {
   "display_name": "py312",
   "language": "python",
   "name": "python3"
  },
  "language_info": {
   "codemirror_mode": {
    "name": "ipython",
    "version": 3
   },
   "file_extension": ".py",
   "mimetype": "text/x-python",
   "name": "python",
   "nbconvert_exporter": "python",
   "pygments_lexer": "ipython3",
   "version": "3.12.4"
  }
 },
 "nbformat": 4,
 "nbformat_minor": 2
}
