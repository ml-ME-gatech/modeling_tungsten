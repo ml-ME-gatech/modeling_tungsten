{
 "cells": [
  {
   "cell_type": "code",
   "execution_count": 2,
   "metadata": {},
   "outputs": [],
   "source": [
    "import numpy as np\n",
    "from matplotlib import pyplot as plt\n",
    "import pandas as pd\n",
    "from matplotlib import rc\n",
    "from matplotlib.ticker import AutoMinorLocator\n",
    "from common_util import hdi\n",
    "\n",
    "rc('font',**{'family':'serif','serif':['Times New Roman'],'weight': 'bold'})\n",
    "plt.rcParams[\"font.weight\"] = \"bold\"\n",
    "plt.rcParams[\"axes.labelweight\"] = \"bold\"\n",
    "rc('text', usetex=True)\n",
    "plt.rcParams['text.latex.preamble'] = \"\".join([r\"\\usepackage{newtxtext,newtxmath}\",r\"\\boldmath\"])\n",
    "\n",
    "def default_axis(figsize = (6,4.5), \n",
    "               xlabel: str = None,\n",
    "               ylabel: str = None,\n",
    "               labelsize: int = 10,\n",
    "               fontsize: int = 11,\n",
    "               ax: plt.Axes = None,\n",
    "               n_minor_ticks: int = 5):\n",
    "\n",
    "    if ax is None:\n",
    "        fig, ax = plt.subplots(figsize=figsize)\n",
    "    else:\n",
    "        fig = None\n",
    "    \n",
    "    ax.set_xlabel(xlabel,fontsize = 10)\n",
    "    ax.set_ylabel(ylabel,fontsize  = fontsize)\n",
    "    ax.tick_params('both',labelsize = labelsize,direction = 'in',which = 'both')\n",
    "\n",
    "    ax.xaxis.set_minor_locator(AutoMinorLocator(n_minor_ticks))\n",
    "    ax.yaxis.set_minor_locator(AutoMinorLocator(n_minor_ticks))\n",
    "    \n",
    "    return fig,ax"
   ]
  },
  {
   "cell_type": "markdown",
   "metadata": {},
   "source": [
    "### Application Description\n",
    "\n",
    "We want to estimate the reduction in material Vickers hardness due to _recrystilization_, a type of solid material phase change, for a tungsten alloy (K doped 3% Rhenium W alloy). The kinetics of recrystilization are a function of both time and temperature. Unfortunately, the only high quality recrystillizatoin experimental data that covers a broad swathe of temperatures is for pure W [1]. We believe after an initial assessment of the data that:\n",
    "\n",
    "1. The ultimate reduction in the hardness (fully recrystallized material) is independant of the recrystillization temperature.\n",
    "2. The reduction is relatively constant across material pre-processing\n",
    "\n",
    "The later assumption is mostly for convinience, made so we can create a single point estimate (and confidence interval) for the reduction in the material Vickers hardness to be used in design applications. \n",
    "\n",
    "### Goals\n",
    "1. Statistically demonstrate the above two hypothesis. \n",
    "2. Demonstrate this recrystillization reduction is a good approximation for the specific alloy of interest.\n",
    "\n",
    "And conclude that this estimated reduction in material hardness may be used as a baseline estimate across tungsten alloy and recrystillization temperatures.\n",
    "\n",
    "[1] Alfonso, L., Thermal Stability of Warm Rolled Tungsten (2015), Ph.D. Thesis "
   ]
  },
  {
   "cell_type": "markdown",
   "metadata": {},
   "source": [
    "### Initial Visualization\n",
    "\n",
    "The below plot shows hardness as a function of time at a few specific temperatures ($1150,1250 \\ ^\\circ C$). The hardness begins at the initial material species value, $HV_0$, and asymptotes to a final value, $HV_x$, once the material is fully recrystallized. The reduction in hardness is the fractional decrease from $HV_0$ to $HV_x$."
   ]
  },
  {
   "cell_type": "code",
   "execution_count": 3,
   "metadata": {},
   "outputs": [
    {
     "data": {
      "image/png": "[encoded data removed]",
      "text/plain": [
       "<Figure size 400x250 with 1 Axes>"
      ]
     },
     "metadata": {},
     "output_type": "display_data"
    }
   ],
   "source": [
    "from matplotlib import rc\n",
    "from matplotlib.ticker import AutoMinorLocator\n",
    "import pandas as pd\n",
    "\n",
    "rc('font',**{'family':'serif','serif':['Times New Roman'],'weight': 'bold'})\n",
    "plt.rcParams[\"font.weight\"] = \"bold\"\n",
    "plt.rcParams[\"axes.labelweight\"] = \"bold\"\n",
    "rc('text', usetex=True)\n",
    "plt.rcParams['text.latex.preamble'] = \"\".join([r\"\\usepackage{newtxtext,newtxmath}\",r\"\\boldmath\"])\n",
    "\n",
    "def default_axis(figsize = (6,4.5), \n",
    "               xlabel: str = None,\n",
    "               ylabel: str = None,\n",
    "               labelsize: int = 10,\n",
    "               fontsize: int = 11,\n",
    "               ax: plt.Axes = None,\n",
    "               n_minor_ticks: int = 5):\n",
    "\n",
    "    if ax is None:\n",
    "        fig, ax = plt.subplots(figsize=figsize)\n",
    "    else:\n",
    "        fig = None\n",
    "    \n",
    "    ax.set_xlabel(xlabel,fontsize = 10)\n",
    "    ax.set_ylabel(ylabel,fontsize  = fontsize)\n",
    "    ax.tick_params('both',labelsize = labelsize,direction = 'in',which = 'both')\n",
    "\n",
    "    ax.xaxis.set_minor_locator(AutoMinorLocator(n_minor_ticks))\n",
    "    ax.yaxis.set_minor_locator(AutoMinorLocator(n_minor_ticks))\n",
    "    \n",
    "    return fig,ax\n",
    "\n",
    "fig,ax = default_axis(figsize = (4,2.5),\n",
    "                    xlabel = r'$t$ [h]',\n",
    "                    ylabel = r'$HV$')\n",
    "for temp,color in zip([1150,1250],[0.1,0.2]):\n",
    "    df = pd.read_csv('rf_data/alfonso_data/highly_rolled_hardness_data.csv',index_col = 0)\n",
    "    df = df.loc[df['temperature'] == temp]\n",
    "\n",
    "\n",
    "    ax.errorbar(df['time'],df['HV'].to_numpy(),yerr = df['std'],fmt = 'none',ecolor = 'k',capsize = 2)\n",
    "    ax.scatter(df['time'],df['HV'],facecolor  = plt.get_cmap('Dark2')(color),edgecolor = 'k',\n",
    "            lw = 1.0,s = 40,marker = 'h',zorder = 1000)\n",
    "\n",
    "fig.tight_layout(pad = 0.1)"
   ]
  },
  {
   "cell_type": "markdown",
   "metadata": {},
   "source": [
    "### Extract Hardness Values\n",
    "\n",
    "We define the material as _recrystallized_ when the hardness reache is less than $\\beta$ % greater than it's minimum value, and from this first point in time onward, every recorded value is considered a recrystallized hardness ($HV_x$). We selected the minimum of these values as a conservative estimate in the reduction of hardness.\n",
    "\n",
    "We define the _initial_ material hardness ($HV_0$) as the first value in the time series. \n",
    "\n",
    "The reported data are means over a moderate number of samples ($20$). We assume that all observations are normal random variables from two populations, the initial $HV_{0}$ population and the recrystillized $HV_{x,i}$. \n",
    "\n",
    "By defintion, we have one observation mean for the $HV_{0}$ and an estimate of it's variance $S^2_{0}$ at each temperature. We have multiple observation means for the recystallized data, with an estimate of each samples variance $S^2_{x,i}$ for each. "
   ]
  },
  {
   "cell_type": "code",
   "execution_count": 4,
   "metadata": {},
   "outputs": [],
   "source": [
    "import warnings\n",
    "\n",
    "def extract_hardness_data(data: pd.DataFrame,\n",
    "                          thresh: float = 0.025):\n",
    "\n",
    "    # Extract the data for the initial and recrystallized states\n",
    "    # for each temperature\n",
    "    temps = data['temperature'].unique()\n",
    "    init_data,rx_data = [], []\n",
    "    for t in temps:\n",
    "        df = data.loc[data['temperature'] == t]\n",
    "        with warnings.catch_warnings(action = 'ignore'):\n",
    "            df.sort_values('time',inplace = True)  \n",
    "        \n",
    "        scaled = (df['HV'].to_numpy() - df['HV'].min())/df['HV'].min()\n",
    "        index = scaled < thresh\n",
    "        i = 0\n",
    "        while i < index.shape[0] and not index[i]:  \n",
    "            i += 1\n",
    "        \n",
    "        i -=1\n",
    "\n",
    "        rx_df = df.iloc[i:].loc[:,['HV','std']]\n",
    "        index = np.argmin(rx_df['HV'].to_numpy())\n",
    "        rx_data.append(rx_df.iloc[index][['HV','std']].to_numpy()[np.newaxis,:])   \n",
    "        init_data.append(df.iloc[0][['HV','std']].to_numpy()[np.newaxis,:])\n",
    "\n",
    "    init_df = pd.DataFrame(np.concatenate(init_data,axis = 0),index = temps,columns = ['HV','std'])\n",
    "    rx_df = pd.DataFrame(np.concatenate(rx_data,axis = 0),index = temps,columns = ['HV','std'])\n",
    "    \n",
    "    return init_df,rx_df\n"
   ]
  },
  {
   "cell_type": "markdown",
   "metadata": {},
   "source": [
    "### Estimate Reduction in Hardness Value\n",
    "\n",
    "We are specifically interested in estimating the _reduction in hardness value_, $HV_\\Delta$ defined by:\n",
    "\n",
    "$\n",
    "HV_\\Delta = \\frac{HV_0 - HV_x}{HV_0} =  1 - R_{x0}\n",
    "$\n",
    "\n",
    "The preceeding analysis implies that $HV_0 \\sim \\mathcal{N}(\\mu_0,\\sigma_0)$ and $HV_x \\sim \\mathcal{N}(\\mu_x,\\sigma_x)$. Assuming independance of the two RV's, $R_{x0}$ is the ratio of $HV_x$ to $HV_0$ and the distribution of $R_{x0}$ is a ratio distribution of the two normal variables. This variable has an exact, analytical closed form pdf, however none of the moments are finite and we don't have the actual mean and variances of the hardnesses, only estimates, so it would be difficult to derive the distribution based on the sample statistics. Its straightforward to just sample the distributions of $HV_0$ and $HV_x$ and estimate $\\mu_{\\Delta}$ and confidence intervals on $HV_{\\Delta}$ empircally. Student's theorem provides:\n",
    "\n",
    "$\n",
    "\\frac{HX_x - \\mu_{x}}{\\sqrt{S^2_p/n}} \\sim t_{n - 1} \\\\ \n",
    "$\n",
    "\n",
    "And an identical formulae for $HV_0$. Using this information we can sample these distributions and construct a sample distribution of $H_{\\Delta}$. Viewing the histogram of the samples below, we see that HV_\\Delta$ is almost normal, with a slight negative skew (computed below) due to the ratio of the two $T$-distributed variables."
   ]
  },
  {
   "cell_type": "code",
   "execution_count": 8,
   "metadata": {},
   "outputs": [
    {
     "name": "stdout",
     "output_type": "stream",
     "text": [
      "skewness: [-0.0057 -0.0216 -0.0339 -0.0225 -0.0098  0.0019]\n"
     ]
    },
    {
     "data": {
      "image/png": "[encoded data removed]",
      "text/plain": [
       "<Figure size 300x250 with 1 Axes>"
      ]
     },
     "metadata": {},
     "output_type": "display_data"
    }
   ],
   "source": [
    "import scipy\n",
    "\n",
    "def get_hardnes_reduction_samples(init_sample_mean: np.ndarray,\n",
    "                                    init_sample_std: np.ndarray,\n",
    "                                    init_n: np.ndarray,\n",
    "                                    rx_sample_mean: np.ndarray,\n",
    "                                    rx_sample_std: np.ndarray,\n",
    "                                    rx_n: np.ndarray,\n",
    "                                    num_samples: int):\n",
    "    \n",
    "\n",
    "    init_samples = scipy.stats.t.rvs(loc = init_sample_mean,    \n",
    "                                     scale = init_sample_std,\n",
    "                                     df = init_n - 1,\n",
    "                                     size = (num_samples,init_sample_mean.shape[0]))\n",
    "    rx_samples = scipy.stats.t.rvs(loc = rx_sample_mean,\n",
    "                                    scale = rx_sample_std,\n",
    "                                    df = rx_n - 1,\n",
    "                                    size = (num_samples,rx_sample_mean.shape[0]))\n",
    "    \n",
    "    return 1. - rx_samples/init_samples\n",
    "    \n",
    "\n",
    "data = pd.read_csv('rf_data/alfonso_data/highly_rolled_hardness_data.csv',index_col = 0)\n",
    "init_data,rx_data = extract_hardness_data(data,thresh = 0.01)\n",
    "\n",
    "\n",
    "hardness_reduction  = get_hardnes_reduction_samples(init_data.loc[:,'HV'].to_numpy(),\n",
    "                                                            init_data.loc[:,'std'].to_numpy(),\n",
    "                                                            20,\n",
    "                                                            rx_data.loc[:,'HV'].to_numpy(),\n",
    "                                                            rx_data.loc[:,'std'].to_numpy(),    \n",
    "                                                            20,\n",
    "                                                            100000)\n",
    "\n",
    "\n",
    "fig,ax = default_axis(figsize = (3,2.5),\n",
    "                      xlabel = r'$HV_{\\Delta}$ [\\%]',\n",
    "                     ylabel = r'$p(HV_{\\Delta})$')\n",
    "\n",
    "ax.hist(hardness_reduction[:,5]*100,bins = 60,density = True,edgecolor = 'k',alpha = 0.6,lw = 0.5)\n",
    "fig.tight_layout()\n",
    "\n",
    "\n",
    "skewness = np.mean(((hardness_reduction - hardness_reduction.mean(axis = 0)[np.newaxis,:])/hardness_reduction.std(axis = 0))**3,axis = 0)\n",
    "print(f'skewness: {np.round(skewness,4)}')\n"
   ]
  },
  {
   "cell_type": "markdown",
   "metadata": {},
   "source": [
    "### Visualization \n",
    "\n",
    "The below scatter shows computed mean $HV_\\Delta$ at each temperature, with 95% confidence intervals for each data point for W material processed in two different ways. The common mean and 95% confidence intervals are shown as horizontal lines. It appears visually that assuming the reduction in hardness is independent of temperature may be a good assumption."
   ]
  },
  {
   "cell_type": "code",
   "execution_count": 9,
   "metadata": {},
   "outputs": [
    {
     "data": {
      "image/png": "[encoded data removed]",
      "text/plain": [
       "<Figure size 400x300 with 1 Axes>"
      ]
     },
     "metadata": {},
     "output_type": "display_data"
    }
   ],
   "source": [
    "\n",
    "fig,ax = default_axis(figsize = (4,3),\n",
    "                    xlabel = r'$T$ [$^\\circ C$]',\n",
    "                    ylabel = r'$HV_\\Delta [\\%]$')\n",
    "\n",
    "files = ['rf_data/alfonso_data/highly_rolled_hardness_data.csv',\n",
    "         'rf_data/alfonso_data/moderate_roll_hardness_data.csv']\n",
    "\n",
    "labels = ['Alfonso et. al. HR',\n",
    "          'Alfonso et. al. MR']\n",
    "\n",
    "sampled_inferences = []\n",
    "i = 0\n",
    "for file,marker,color,label in zip(files,['h','s','o'],[0.1,0.2,0.7],labels):\n",
    "    data = pd.read_csv(file,index_col = 0)\n",
    "    init_data,rx_data = extract_hardness_data(data,thresh = 0.01)\n",
    "    \n",
    "    if i >= 2:\n",
    "        hv_d = (init_data['HV'] - rx_data['HV'])/init_data['HV']\n",
    "\n",
    "\n",
    "        ax.scatter(hv_d.index,hv_d*100,facecolor = plt.get_cmap('Dark2')(color),\n",
    "                edgecolor = 'k',s = 40,marker = marker,lw = 0.75,\n",
    "                label = label,zorder = 2000)\n",
    "    else:\n",
    "\n",
    "        \n",
    "        hardness_reduction  = get_hardnes_reduction_samples(init_data.loc[:,'HV'].to_numpy(),\n",
    "                                                                    init_data.loc[:,'std'].to_numpy(),\n",
    "                                                                    20,\n",
    "                                                                    rx_data.loc[:,'HV'].to_numpy(),\n",
    "                                                                    rx_data.loc[:,'std'].to_numpy(),    \n",
    "                                                                    20,\n",
    "                                                                    100000)\n",
    "        \n",
    "        sampled_inferences.append(hardness_reduction)\n",
    "        ci = hdi(hardness_reduction.T,0.95).T\n",
    "        mean_hardness = hardness_reduction.mean(axis = 0)\n",
    "\n",
    "        yerr = np.abs(mean_hardness[np.newaxis,:] - ci)\n",
    "\n",
    "        common_mean = mean_hardness.mean()\n",
    "        common_ci = hdi(hardness_reduction.flatten()[np.newaxis,:],0.95).squeeze()\n",
    "\n",
    "        ax.axhline(common_mean*100,color = plt.get_cmap('Dark2')(color),ls = '--',lw = 1.0,\n",
    "                   label = f'Mean' if i == 0 else None)\n",
    "        ax.axhline(common_ci[0]*100,color = plt.get_cmap('Dark2')(color),ls = ':',lw = 0.75)\n",
    "        ax.axhline(common_ci[1]*100,color = plt.get_cmap('Dark2')(color),ls = ':',lw = 0.75)\n",
    "        ax.fill_between(np.linspace(1050,1500),common_ci[0]*100,common_ci[1]*100,\n",
    "                        color = plt.get_cmap('Dark2')(color),alpha = 0.1)\n",
    "        \n",
    "        ax.errorbar(init_data.index,mean_hardness*100,yerr = yerr*100,\n",
    "                    fmt = 'none',ecolor = 'k',capsize = 2,lw = 1.0)\n",
    "        ax.scatter(init_data.index,mean_hardness*100,facecolor = plt.get_cmap('Dark2')(color),\n",
    "                edgecolor = 'k',s = 40,marker = marker,lw = 1.0,\n",
    "                label = label,zorder = 2000)\n",
    "    i+=1\n",
    "\n",
    "\n",
    "ax.legend(fontsize = 9,ncols = 2)\n",
    "ax.set_ylim(8,22)\n",
    "ax.set_xlim(1050,1400)\n",
    "fig.tight_layout(pad = 0.1)\n",
    "fig.savefig('images/hardness_reduction.svg')"
   ]
  },
  {
   "cell_type": "markdown",
   "metadata": {},
   "source": [
    "### Testing Independance of Temperature\n",
    "\n",
    "We suppose that: \n",
    "\n",
    "$\n",
    "HV_{\\Delta,ij} = \\theta_i + \\varepsilon_{i} \\\\ \n",
    "i = 1,...,6 \\qquad \\text{counts temperature} \\\\ \n",
    "j = 1,...,m \\qquad \\text{counts number of samples}\n",
    "$\n",
    "\n",
    "And we'd like to test: \n",
    "\n",
    "$\n",
    "\\mathcal{H}_0: \\theta_i = \\bar{\\theta} \\ \\ \\forall i \\qquad \\text{vs.} \\qquad \\mathcal{H}_1: \\exist i \\ \\text{s.t.} \\theta_i \\neq \\ \\bar{\\theta} \n",
    "$\n",
    "\n",
    "This is the null hypothesis under one-way ANOVA, however our approach is complicated by violation of the classical normality assumptions regarding the error term, $\\varepsilon_{i}$. The assumptions of independant errors with $\\mathbb{E}[\\varepsilon_{i}] = 0$, still make sense, however we do not assume they have a common distribution. Under $\\mathcal{H}_0$ we have that \n",
    "\n",
    "$\n",
    "\\theta_i - \\bar{\\theta} = \\varepsilon_i \\sim p_i \\\\ \n",
    "p(\\varepsilon_1,\\varepsilon_2,...,\\varepsilon_6) = \\prod_{i = 1}^6 p_i \\\\ \n",
    "$\n",
    "\n",
    "Where $p_{i}$ is represented through samples. To test $\\mathcal{H}_0$ at level $\\alpha$ we estimate $\\varepsilon_i$ using $\\tilde{\\varepsilon}_i$ using estimates for $\\theta_i$ and $\\bar{\\theta}$ to confirm they each lie within $[p_{i,\\gamma/2},p_{i,1 - \\gamma/2}]$ where $1- \\gamma = (1 - \\alpha)^{1/n} \\implies \\gamma = 1 - (1 - \\alpha)^{1/n}$\n",
    "\n",
    "This test confirms, for both data sets, what we suspected based on the plot in the previous section: the change in hardness is independant of temperature, in a statistical sense."
   ]
  },
  {
   "cell_type": "code",
   "execution_count": 10,
   "metadata": {},
   "outputs": [
    {
     "name": "stdout",
     "output_type": "stream",
     "text": [
      "Medium Rolled\n",
      "-----------------------------------\n",
      "\n",
      "Difference in Mean | Lower Bound | Upper Bound\n",
      "-0.104 -0.7 0.7\n",
      "-0.157 -0.9 0.9\n",
      "-0.336 -1.8 1.9\n",
      "0.094 -1.0 1.0\n",
      "0.41 -0.8 0.8\n",
      "0.093 -0.9 0.9\n",
      "\n",
      "-----------------------------------\n",
      "\n",
      "\n",
      "Highly Rolled\n",
      "-----------------------------------\n",
      "\n",
      "Difference in Mean | Lower Bound | Upper Bound\n",
      "-1.652 -2.5 2.4\n",
      "0.682 -2.3 2.2\n",
      "0.113 -1.7 1.6\n",
      "0.496 -2.4 2.3\n",
      "0.361 -2.2 2.1\n",
      "\n",
      "-----------------------------------\n",
      "\n",
      "\n"
     ]
    }
   ],
   "source": [
    "alpha = 0.05\n",
    "\n",
    "\n",
    "inf_names = ['Medium Rolled','Highly Rolled']\n",
    "\n",
    "for hard_red,name in zip(sampled_inferences,inf_names):\n",
    "    print(name)\n",
    "    print('-----------------------------------\\n')\n",
    "    means = hard_red.mean(axis = 0)\n",
    "    common_mean = means.mean()\n",
    "    diff = means - common_mean\n",
    "\n",
    "    # compute the confidence interval on the difference in means, effectively the quantiles on the error distribution.\n",
    "    gamma = 1 - (1-alpha)**(1/means.shape[0])\n",
    "    ci = hdi(hard_red.T - means[:,np.newaxis],1-gamma).T\n",
    "    print('Difference in Mean | Lower Bound | Upper Bound')\n",
    "    for i in range(diff.shape[0]):\n",
    "        print(f'{round(diff[i]*100,3)} {np.round(ci[0,i]*100,1)} {np.round(ci[1,i]*100,1)}')\n",
    "\n",
    "    print('\\n-----------------------------------\\n\\n')\n",
    "\n"
   ]
  },
  {
   "cell_type": "markdown",
   "metadata": {},
   "source": [
    "### Testing Common Mean Between Processed Materials\n",
    "\n",
    "We suppose that: \n",
    "\n",
    "$\n",
    "HV_{\\Delta,ijk} = \\theta_{ik} + \\varepsilon_{ik} \\\\ \n",
    "i = 1,...,6 \\qquad \\text{counts temperature} \\\\ \n",
    "j = 1,...,m \\qquad \\text{counts number of samples} \\\\ \n",
    "k = 1,2 \\qquad \\text{denotes the material processed with method} \\   k\n",
    "$\n",
    "\n",
    "And we'd like to test: \n",
    "\n",
    "$\n",
    "\\mathcal{H}_0: \\theta_{ik} = \\bar{\\theta} \\ \\ \\forall i \\qquad \\text{vs.} \\qquad \\mathcal{H}_1: \\exists i \\ \\text{or} \\ k \\ \\text{s.t.} \\theta_{ik} \\neq \\ \\bar{\\theta} \n",
    "$\n",
    "\n",
    "And it appears we must reject $\\mathcal{H}_0$ unless we make $\\alpha$ very very small. This isn't surprising based on visual inspection of the previous scatter plot that there is a difference in the means between the two populations."
   ]
  },
  {
   "cell_type": "code",
   "execution_count": 7,
   "metadata": {},
   "outputs": [
    {
     "name": "stdout",
     "output_type": "stream",
     "text": [
      "Difference in Mean | Lower Bound | Upper Bound\n",
      "1.031 -0.7 0.7\n",
      "0.978 -0.9 0.9\n",
      "0.8 -2.0 2.1\n",
      "1.229 -1.1 1.2\n",
      "1.544 -0.8 0.8\n",
      "1.228 -1.0 1.0\n",
      "-3.018 -2.7 2.6\n",
      "-0.673 -2.5 2.4\n",
      "-1.255 -1.8 1.8\n",
      "-0.864 -2.7 2.6\n",
      "-0.999 -2.5 2.4\n",
      "\n",
      "-----------------------------------\n",
      "\n",
      "\n"
     ]
    }
   ],
   "source": [
    "alpha = 0.05\n",
    "gamma = 1 - (1-alpha)**(1/sum([inf.shape[1] for inf in sampled_inferences]))\n",
    "means = np.concatenate([hardness_reduction.mean(axis = 0) for hardness_reduction in sampled_inferences],axis = 0)\n",
    "ci = np.concatenate([hdi(inf.T,1- gamma).T for inf in sampled_inferences],axis = 1)- means\n",
    "common_mean = means.mean()\n",
    "diff = means - common_mean\n",
    "print('Difference in Mean | Lower Bound | Upper Bound')\n",
    "for i in range(diff.shape[0]):\n",
    "    print(f'{round(diff[i]*100,3)} {np.round(ci[0,i]*100,1)} {np.round(ci[1,i]*100,1)}')\n",
    "\n",
    "print('\\n-----------------------------------\\n\\n')\n"
   ]
  },
  {
   "cell_type": "markdown",
   "metadata": {},
   "source": [
    "### Extrapolating $HV_\\Delta$ to Different W Alloys\n",
    "\n",
    "We'd like to assess if we can use these results for pure W to extrapolate to different alloys. Tschudia et al. provide data for several tungsten alloys annealed at different temperatures for 1 hour, plotted below. The data further confirms our hypothesis that $HV_\\Delta$ is independant of temperature. We can see that when the temperature is sufficiently high enough for the material to recrystallize in one hour, the hardness reaches a relatively constant value."
   ]
  },
  {
   "cell_type": "code",
   "execution_count": 11,
   "metadata": {},
   "outputs": [
    {
     "data": {
      "image/png": "[encoded data removed]",
      "text/plain": [
       "<Figure size 400x250 with 1 Axes>"
      ]
     },
     "metadata": {},
     "output_type": "display_data"
    }
   ],
   "source": [
    "fig,ax = default_axis(figsize = (4,2.5),\n",
    "                    xlabel = r'$T$ [$^\\circ C$]',\n",
    "                    ylabel = r'$HV$')\n",
    "\n",
    "alloys = ['Pure W data','K-doped W data','K-doped 3%Re W data']\n",
    "labels = ['Pure W','K-doped W',r'K-doped 3\\%Re W']\n",
    "for alloy,label,color,marker in zip(alloys,labels,[0.1,0.2,0.3],['s','o','h']):\n",
    "    df = pd.read_csv(f'rf_data/tschudia_data/tschudia_data_{alloy}.csv')\n",
    "\n",
    "    ax.errorbar(df['temperature'],df['hardness'].to_numpy(),yerr = df['hardness error'],fmt = 'none',ecolor = 'k',capsize = 2)\n",
    "    ax.scatter(df['temperature'],df['hardness'],facecolor  = plt.get_cmap('Set1')(color),edgecolor = 'k',\n",
    "            lw = 1.0,s = 40,marker = marker,zorder = 1000,label = label)\n",
    "\n",
    "ax.legend(fontsize = 9,ncol = 2)\n",
    "fig.tight_layout(pad = 0.1)"
   ]
  },
  {
   "cell_type": "markdown",
   "metadata": {},
   "source": [
    "We'll use the first value in each temperature series as $HV_0$ and the last three values as realizations of $HV_x$, leveraging temperature independance, to estimate $HV_\\Delta$ for each alloy. Measurements and reported standard deviations are estimated using the average of 5 points. We use the pooled estimator for the standard deviation of recrystallized hardness again.  "
   ]
  },
  {
   "cell_type": "code",
   "execution_count": 12,
   "metadata": {},
   "outputs": [],
   "source": [
    "alloys = ['Pure W data','K-doped W data','K-doped 3%Re W data']\n",
    "infered_alloys = dict.fromkeys(alloys)\n",
    "for alloy in alloys:\n",
    "    df = pd.read_csv(f'rf_data/tschudia_data/tschudia_data_{alloy}.csv')\n",
    "    df.sort_values('temperature',inplace = True)\n",
    "    init_data = df.iloc[0:1][['hardness','hardness error']]\n",
    "    init_data.columns = ['HV','std']\n",
    "\n",
    "    rx_data = df.iloc[-3:][['hardness','hardness error']]\n",
    "    index = np.argmin(rx_data['hardness'].to_numpy())\n",
    "    rx_df = rx_data.iloc[index:index + 1][['hardness','hardness error']]\n",
    "    rx_df.columns = ['HV','std']\n",
    "    infered_alloys[alloy] = get_hardnes_reduction_samples(init_data['HV'].to_numpy(),\n",
    "                                                            init_data['std'].to_numpy(),\n",
    "                                                            5,\n",
    "                                                            rx_df['HV'].to_numpy(),\n",
    "                                                            rx_df['std'].to_numpy(),    \n",
    "                                                            5,\n",
    "                                                            100000)\n",
    "\n"
   ]
  },
  {
   "cell_type": "markdown",
   "metadata": {},
   "source": [
    "### Displaying the Data\n",
    "Plotting the data on a scatter below, we can see that the mean reduction in hardness values all fall within a pretty consisten range, with the alloy of interest K-doped 3%Re W alloy, having the largest value. Also plotted is the common mean as a black dotted line, and 95% confidence intervals for all the data. \n",
    "\n",
    "The spread in the data for our alloy of interest is pretty large, and we'd like a reference value for reduction in hardness we can use as a reference across _all_ tungsten's, for multiple processing methods and alloys. It's a good idea to be conservative as well, so we'll use the 95% confidence interval upper bound across all tungsten alloys as our estimate. \n",
    "\n",
    "$HV_\\Delta = 21.9\\%$ isn't all the different from the mean for the specific tungsten alloy of $20.8\\%$ or the upper bound for the original W data of $18.9\\%$, and the small differences between these numbers won't make much impact on subsequent simulations/applications. The number $HV_\\Delta = 21.8\\%$ has the benefit of being a conservative estimate for the reduction in hardness of the material due to recrystalliation if we don't know anything about a W material, _viz._ we are $95\\%$ confident that the hardness reduction due to recrystillization for some unknown W or W alloy is less than $21.9\\%$"
   ]
  },
  {
   "cell_type": "code",
   "execution_count": null,
   "metadata": {},
   "outputs": [
    {
     "name": "stdout",
     "output_type": "stream",
     "text": [
      "                        Mean %  Lower Bound %  Upper Bound %\n",
      "Pure W               18.929197      18.241029      19.706517\n",
      "K-doped W            16.433074      14.351321      18.244005\n",
      "Pure W data          21.416964      19.183976      23.540302\n",
      "K-doped W data       19.192181      14.943245      23.503281\n",
      "K-doped 3%Re W data  20.788131      15.817822      25.622181\n",
      "\n",
      "Common Mean: 18.4 Lower Bound 14.7 Upper Bound 21.9\n"
     ]
    },
    {
     "data": {
      "image/png": "[encoded data removed]",
      "text/plain": [
       "<Figure size 400x250 with 1 Axes>"
      ]
     },
     "metadata": {},
     "output_type": "display_data"
    }
   ],
   "source": [
    "alpha = 0.1\n",
    "\n",
    "\n",
    "index = []\n",
    "data = []\n",
    "all_samples = []\n",
    "#Get Pure W Results\n",
    "for label,inference in zip(labels,sampled_inferences):\n",
    "    all_samples.append(inference.flatten())\n",
    "    mean_hardness_reduction = inference.mean()\n",
    "    ci = hdi(inference.flatten()[np.newaxis,:],1 - alpha).squeeze()\n",
    "    data.append([mean_hardness_reduction,ci[0],ci[1]])\n",
    "    index.append(label)\n",
    "\n",
    "#Get Tschudia Results\n",
    "for alloy in alloys:\n",
    "    all_samples.append(infered_alloys[alloy].flatten())\n",
    "    mean_hardness_reduction = infered_alloys[alloy].mean()\n",
    "    ci = hdi(infered_alloys[alloy].T, 1 - alpha).squeeze()\n",
    "    data.append([mean_hardness_reduction,ci[0],ci[1]])\n",
    "    index.append(alloy)\n",
    "\n",
    "hr_df = pd.DataFrame(np.array(data)*100,index = index,columns = ['Mean %','Lower Bound %','Upper Bound %'])\n",
    "print(hr_df)\n",
    "print('')\n",
    "\n",
    "all_samples = np.concatenate(all_samples)\n",
    "common_mean = all_samples.mean()*100    \n",
    "common_ci = hdi(all_samples[np.newaxis,:],1 - alpha).squeeze()*100\n",
    "         \n",
    "print(f'Common Mean: {round(common_mean,1)} Lower Bound {round(common_ci[0],1)} Upper Bound {round(common_ci[1],1)}')\n",
    "fig,ax = default_axis(figsize = (4,2.5),\n",
    "                    xlabel = r'\\textbf{Alloy}',\n",
    "                    ylabel = r'$HV_\\Delta$ [\\%]')\n",
    "\n",
    "colors = np.concatenate([plt.get_cmap('Dark2')([0.1,0.2]),plt.get_cmap('Set1')([0.1,0.2,0.3])]) \n",
    "yerr = np.abs(hr_df[['Lower Bound %','Upper Bound %']].to_numpy().T - hr_df['Mean %'].to_numpy())\n",
    "ax.errorbar(np.arange(5),hr_df['Mean %'].to_numpy(),yerr = yerr,\n",
    "            fmt = 'none',ecolor = 'k',capsize = 2)\n",
    "ax.scatter(np.arange(5),hr_df['Mean %'].to_numpy(),facecolor  = colors,edgecolor = 'k',\n",
    "        lw = 1.0,s = 80,marker = 'h',zorder = 1000)\n",
    "ax.axhline(common_mean,color = 'k',ls = '--',lw = 1.0)\n",
    "ax.axhline(common_ci[0],color = 'k',ls = ':',lw = 0.75)\n",
    "ax.axhline(common_ci[1],color = 'k',ls = ':',lw = 0.75)\n",
    "ax.fill_between(np.linspace(-1,5),common_ci[0],common_ci[1],\n",
    "                color = plt.get_cmap('Set1')(0.7),alpha = 0.1)\n",
    "\n",
    "ax.set_xlim([-0.5,4.5])\n",
    "ax.set_xticks(np.arange(len(hr_df.index)))\n",
    "ax.set_xticklabels(hr_df.index, rotation=30, ha='right', fontsize=10)\n",
    "fig.tight_layout(pad = 0.1)\n",
    "fig.savefig('images/hardness_reduction_comparison.svg')"
   ]
  }
 ],
 "metadata": {
  "kernelspec": {
   "display_name": "Python 3",
   "language": "python",
   "name": "python3"
  },
  "language_info": {
   "codemirror_mode": {
    "name": "ipython",
    "version": 3
   },
   "file_extension": ".py",
   "mimetype": "text/x-python",
   "name": "python",
   "nbconvert_exporter": "python",
   "pygments_lexer": "ipython3",
   "version": "3.12.8"
  }
 },
 "nbformat": 4,
 "nbformat_minor": 2
}
