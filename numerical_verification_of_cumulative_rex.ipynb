{
 "cells": [
  {
   "cell_type": "code",
   "execution_count": null,
   "metadata": {},
   "outputs": [],
   "source": [
    "import numpy as np\n",
    "\n",
    "def jmak_model(t: float,K: float,t_inc: float,n: float):\n",
    "    if t <= t_inc:\n",
    "        return 0.\n",
    "    \n",
    "    return 1.0 - np.exp(-K*(t - t_inc)**n)\n",
    "\n",
    "def K_deriv(T: float):\n",
    "\n",
    "def t_inc_deriv(T: float):\n",
    "    pass\n",
    "\n",
    "def jmak_model_derivative(t: float,b: float,t_inc: float,n: float):\n"
   ]
  },
  {
   "cell_type": "code",
   "execution_count": null,
   "metadata": {
    "vscode": {
     "languageId": "plaintext"
    }
   },
   "outputs": [],
   "source": [
    "from numpy "
   ]
  }
 ],
 "metadata": {
  "language_info": {
   "name": "python"
  }
 },
 "nbformat": 4,
 "nbformat_minor": 2
}
