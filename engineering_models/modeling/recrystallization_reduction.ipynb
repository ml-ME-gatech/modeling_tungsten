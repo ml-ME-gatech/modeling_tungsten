{
 "cells": [
  {
   "cell_type": "markdown",
   "metadata": {},
   "source": [
    "### Purpose of the Notebook\n",
    "Estimate the reduction in ultimate tensile stress (UTS) $S_u$ and total elongation (TE, or strain at rupture) $\\varepsilon_{tr}$ for Tungsten and Tungsten Alloys above the DBTT. Refer to [effect_of_recrystillization.ipynb](../data_exploration/effect_of_recrystillization.ipynb) for initial visual exploration of the data. Define:\n",
    "\n",
    "$$\n",
    "\\begin{matrix*}[l]\n",
    "\\Delta_{rx} S_u(T) = S_{u,0}(T) - S_{u,rx}(T) \\\\ \n",
    "\\Delta_{rx} \\varepsilon_{tr}(T) =  \\varepsilon_{tr,0}(T) - \\varepsilon_{tr,rx}(T) \n",
    "\\end{matrix*}\n",
    "$$\n",
    "\n",
    "Here, $\\Delta_{rx} S_u(T),\\Delta_{rx} \\varepsilon_{tr}(T)$ are the changes in $S_u(T)$ and $\\varepsilon_{tr}(T)$ due to recrystallization, with $S_{u,0}(T),\\varepsilon_{tr,0}(T) $ the material properties prior to recrystallization and $S_{u,rx}(T),\\varepsilon_{tr,rx}(T) $ the material properties of the fully recrystallized material.\n",
    "\n",
    "There are two items that need to be addressed:\n",
    "\n",
    "1. Establishing that the reduction(s) are independent of temperature.\n",
    "2. Estimate the constant reduction.\n",
    "\n",
    "For (1), we can establish there is no linear dependence using classic hypothesis testing from (simple) linear regression. For (2), the application is conservative, so we'd like to establish a fairly conservative estimate for the maximum reduction/minimum increase in material properties.\n"
   ]
  },
  {
   "cell_type": "code",
   "execution_count": 1,
   "metadata": {},
   "outputs": [],
   "source": [
    "from matplotlib import pyplot as plt\n",
    "import numpy as np\n",
    "import warnings\n",
    "from typing import List, Tuple\n",
    "import sys\n",
    "sys.path.append('../')\n",
    "from common_util import NogamiUTSData,ProjectPaths,setup_plotting_format,mk_pdir,markdown_table_from_df\n",
    "\n",
    "#ignore warnings and set preference for matplotlib styles\n",
    "warnings.filterwarnings(\"ignore\")\n",
    "setup_plotting_format()\n",
    "paths = ProjectPaths()\n",
    "data = NogamiUTSData()\n",
    "materials = ['W Plate (H)','K-W Plate (H)','K-W3%Re Plate (H)','K-W3%Re Plate (L)']\n",
    "\n",
    "dbbt = {'W Plate (H)': 500.0,\n",
    "        'K-W Plate (H)': 350.0,\n",
    "        'K-W3%Re Plate (H)': 300.0,\n",
    "        'K-W3%Re Plate (L)': 300.0}\n",
    "\n",
    "RT = {'W Plate (H)': 1300.0,\n",
    "        'K-W Plate (H)': 1300.0,\n",
    "        'K-W3%Re Plate (H)': 1300.0,\n",
    "        'K-W3%Re Plate (L)': 1300.0}\n"
   ]
  },
  {
   "cell_type": "markdown",
   "metadata": {},
   "source": [
    "### Ultimate Tensile Stress $S_u$ \n",
    "\n",
    "#### 1. Linear independence of temperature: Test the hypothesis that $\\Delta_{rx} S_u$ is constant  \n",
    "\n",
    "That is, under the model $\\Delta_{rx} S_u = \\beta_0 + \\beta_1 T + \\varepsilon$, with $\\varepsilon \\sim \\mathcal{N}(0,\\sigma^2)$ we test the null hypothesis.\n",
    "\n",
    "$$\n",
    "\\mathcal{H}_0: \\hat{\\beta}_1 = 0 \\qquad \\text{vs.} \\qquad \\mathcal{H}_1: \\hat{\\beta}_1 \\neq 0\n",
    "$$\n",
    "\n",
    "The decision rule at confidence level $\\alpha$ is:\n",
    "\n",
    "$$\n",
    "\\begin{matrix*}[l]\n",
    "\\text{Reject} \\ \\mathcal{H_0} \\ \\text{in favor of } \\mathcal{H_1} \\text{ if } |t_0| \\geq t_{n-2,1 - \\alpha/2} \\\\\n",
    "t_0 = \\frac{\\hat{\\beta}_1}{SE(\\hat{\\beta}_1)} \\qquad SE(\\hat{\\beta}_1) = \\sqrt{\\frac{S^2}{S_{xx}}}\n",
    "\\end{matrix*}\n",
    "$$\n",
    "\n",
    "Where $S^2$ is the unbiased estimate for the variance $\\sigma^2$, $S_{xx} = \\sum_{i = 1}^n (T_i - \\overline{T})$ and $\\hat{\\beta_1} = S_{xy}/S_{xx}$ is the ML/OLS estimate for $\\beta_1$ where $S_{xy} = \\sum_{i = 1}^n ((\\Delta_{rx} S_u)_i - \\overline{\\Delta_{rx} S_u})(T_i -\\overline{T})$\n",
    "\n",
    "The below result demonstrates that at $\\alpha = 5\\%$ we cannot reject $\\mathcal{H}_0$."
   ]
  },
  {
   "cell_type": "code",
   "execution_count": 2,
   "metadata": {},
   "outputs": [
    {
     "name": "stdout",
     "output_type": "stream",
     "text": [
      "W Plate (H) is linearly independent?: True\n",
      "K-W Plate (H) is linearly independent?: True\n",
      "K-W3%Re Plate (H) is linearly independent?: True\n",
      "K-W3%Re Plate (L) is linearly independent?: True\n"
     ]
    }
   ],
   "source": [
    "from scipy.stats.distributions import t as tdist\n",
    "\n",
    "def test_linear_independence(x: np.ndarray, y: np.ndarray,alpha: float = 0.05) -> float:\n",
    "    \"\"\"\n",
    "    Test for linear independence of the data points\n",
    "    \"\"\"\n",
    "    #calculate the determinant of the matrix\n",
    "    S_xx = np.sum((x - x.mean())**2)\n",
    "    S_xy = np.sum((x - x.mean())*(y - y.mean()))\n",
    "    beta_1 = S_xy/S_xx\n",
    "    beta_0= y.mean() - beta_1*x.mean()\n",
    "    y_hat = beta_0 + beta_1*x\n",
    "    residuals = y - y_hat\n",
    "    SS_R = np.sum(residuals**2)\n",
    "    S2 = SS_R/(len(x) - 2)\n",
    "\n",
    "    #calculate the t-statistic\n",
    "    t_stat = beta_1/np.sqrt(S2/S_xx)\n",
    "    t_crit = tdist.ppf(1-alpha/2,len(x)-2)\n",
    "    return abs(t_stat) < t_crit\n",
    "\n",
    "\n",
    "for alloy in materials:\n",
    "\n",
    "    df = data.get_df('UTS [MPa] ' + alloy,keep_column= False)\n",
    "    rx_df = data.get_df('UTS [MPa] ' + alloy + ' Rx',keep_column= False)\n",
    "    delta = (df - rx_df)\n",
    "    delta.dropna(inplace = True)\n",
    "    delta = delta[delta.index >= dbbt[alloy]]\n",
    "    delta = delta[delta.index < RT[alloy]]\n",
    "\n",
    "    H  = test_linear_independence(delta.index.to_numpy(),\n",
    "                                  delta.to_numpy().squeeze(),\n",
    "                                  alpha = 0.05)\n",
    "    print(f'{alloy} is linearly independent?: {H}')"
   ]
  },
  {
   "cell_type": "markdown",
   "metadata": {},
   "source": [
    "### 2. Estimation of the Constant Reduction\n",
    "\n",
    "The mean is not conservative enough. A better estimate would be $\\Delta^{max}_{rx} S_u$ where\n",
    "\n",
    "$$\n",
    "\\mathbb{P}(\\Delta_{rx} S_u  < \\Delta^{max}_{rx} S_u) = 1 -\\alpha\n",
    "$$\n",
    "\n",
    "$\\Delta_{rx} S_u \\sim \\mathcal{N}(0, \\sigma^2)$ as a consquence of the above analysis, and estimation of the above amounts to computing confidence intervals around of the population. \n",
    "\n"
   ]
  },
  {
   "cell_type": "code",
   "execution_count": 3,
   "metadata": {},
   "outputs": [
    {
     "name": "stdout",
     "output_type": "stream",
     "text": [
      "                   Mean [MPa]  Upper Bound [MPa]\n",
      "W Plate (H)             272.0              279.0\n",
      "K-W Plate (H)           252.0              287.0\n",
      "K-W3%Re Plate (H)       293.0              336.0\n",
      "K-W3%Re Plate (L)       212.0              291.0\n"
     ]
    }
   ],
   "source": [
    "import pandas as pd\n",
    "summary = []\n",
    "for alloy in materials:\n",
    "\n",
    "    df = data.get_df('UTS [MPa] ' + alloy,keep_column= False)\n",
    "    rx_df = data.get_df('UTS [MPa] ' + alloy + ' Rx',keep_column= False)\n",
    "    delta = (df - rx_df)\n",
    "    delta.dropna(inplace = True)\n",
    "    delta = delta[delta.index >= dbbt[alloy]]\n",
    "    delta = delta[delta.index < RT[alloy]]\n",
    "\n",
    "    s = float(delta.std())\n",
    "    dmean = float(delta.mean())\n",
    "    summary.append((dmean,dmean + s))\n",
    "\n",
    "\n",
    "summary = pd.DataFrame(np.array(summary),columns = ['Mean [MPa]','Upper Bound [MPa]'],index = materials)\n",
    "print(np.round(summary))\n",
    "\n",
    "table = markdown_table_from_df(summary,r'$\\Delta_{rx} S_u$','Reduction in UTS due to recrystallization')\n",
    "with mk_pdir():\n",
    "    with open(paths.GIT_TABLES.joinpath('UTS_Delta_Summary.tbl'),'w') as f:\n",
    "        f.write(table)\n",
    "\n"
   ]
  },
  {
   "cell_type": "markdown",
   "metadata": {},
   "source": [
    "### Total Elongation\n",
    "\n",
    "#### 1. Linear independence of temperature: Test the hypothesis that $\\Delta_{rx} \\varepsilon_{tr}$ is constant  \n",
    "\n",
    "There's not really enough data to conductt this for the K-W3\\%Re alloy, so we'll exclude it."
   ]
  },
  {
   "cell_type": "code",
   "execution_count": 4,
   "metadata": {},
   "outputs": [
    {
     "name": "stdout",
     "output_type": "stream",
     "text": [
      "W Plate (H) is linearly independent?: True\n",
      "K-W Plate (H) is linearly independent?: True\n",
      "K-W3%Re Plate (H) is linearly independent?: True\n"
     ]
    }
   ],
   "source": [
    "for alloy in materials[:-1]:\n",
    "\n",
    "    df = data.get_df('TE [%] ' + alloy,keep_column= False)\n",
    "    rx_df = data.get_df('TE [%] ' + alloy + ' Rx',keep_column= False)\n",
    "    delta = (df - rx_df)\n",
    "    delta.dropna(inplace = True)\n",
    "    delta = delta[delta.index >= dbbt[alloy]]\n",
    "    delta = delta[delta.index < RT[alloy]]\n",
    "\n",
    "    H  = test_linear_independence(delta.index.to_numpy(),\n",
    "                                  delta.to_numpy().squeeze(),\n",
    "                                  alpha = 0.05)\n",
    "    print(f'{alloy} is linearly independent?: {H}')"
   ]
  },
  {
   "cell_type": "markdown",
   "metadata": {},
   "source": [
    "### 2. Estimation of the Constant Reduction\n"
   ]
  },
  {
   "cell_type": "code",
   "execution_count": 5,
   "metadata": {},
   "outputs": [],
   "source": [
    "import pandas as pd\n",
    "summary = []\n",
    "for alloy in materials[:-1]:\n",
    "\n",
    "    df = data.get_df('TE [%] ' + alloy,keep_column= False)\n",
    "    rx_df = data.get_df('TE [%] ' + alloy + ' Rx',keep_column= False)\n",
    "    delta = (df - rx_df)\n",
    "    delta.dropna(inplace = True)\n",
    "    delta = delta[delta.index >= dbbt[alloy]]\n",
    "    delta = delta[delta.index < RT[alloy]]\n",
    "\n",
    "    s = float(delta.std())\n",
    "    dmean = float(delta.mean())\n",
    "    summary.append((dmean,dmean + s))\n",
    "\n",
    "\n",
    "summary = pd.DataFrame(np.array(summary),columns = ['Mean [%]','Lower Bound [%]'],index = materials[:-1])\n",
    "\n",
    "table = markdown_table_from_df(summary,r'$\\Delta_{rx} \\varepsilon{tr}$','Reduction in TE due to recrystallization')\n",
    "with mk_pdir():\n",
    "    with open(paths.GIT_TABLES.joinpath('TE_Delta_Summary.tbl'),'w') as f:\n",
    "        f.write(table)"
   ]
  }
 ],
 "metadata": {
  "kernelspec": {
   "display_name": "py312",
   "language": "python",
   "name": "python3"
  },
  "language_info": {
   "codemirror_mode": {
    "name": "ipython",
    "version": 3
   },
   "file_extension": ".py",
   "mimetype": "text/x-python",
   "name": "python",
   "nbconvert_exporter": "python",
   "pygments_lexer": "ipython3",
   "version": "3.12.4"
  }
 },
 "nbformat": 4,
 "nbformat_minor": 2
}
